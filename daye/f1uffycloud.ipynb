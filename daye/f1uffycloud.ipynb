{
 "cells": [
  {
   "attachments": {},
   "cell_type": "markdown",
   "metadata": {},
   "source": [
    "# Global Variavbles"
   ]
  },
  {
   "cell_type": "code",
   "execution_count": 203,
   "metadata": {},
   "outputs": [],
   "source": [
    "import easydict\n",
    "import json\n",
    "args = easydict.EasyDict()\n",
    "\n",
    "\n",
    "# path 정보\n",
    "args.default_path = 'C:/Users/Playdata/Desktop/encore21titanic/'\n",
    "args.train_csv = args.default_path+'train.csv'\n",
    "args.test_csv = args.default_path+'test.csv'\n",
    "args.submission_csv = args.default_path+'submission.csv'\n",
    "args.submission_file = args.default_path+'submission_0224.csv'\n",
    "\n",
    "# 데이터 분석을 위한 변수들\n",
    "args.random_state = 21\n",
    "args.results = []"
   ]
  },
  {
   "cell_type": "code",
   "execution_count": 204,
   "metadata": {},
   "outputs": [],
   "source": [
    "import pandas as pd \n",
    "import numpy as np \n",
    "\n",
    "import matplotlib.pyplot as plt\n",
    "import seaborn as sns\n",
    "\n",
    "import warnings\n",
    "warnings.filterwarnings('ignore')"
   ]
  },
  {
   "attachments": {},
   "cell_type": "markdown",
   "metadata": {},
   "source": [
    "# 데이터 로드"
   ]
  },
  {
   "cell_type": "code",
   "execution_count": 205,
   "metadata": {},
   "outputs": [
    {
     "name": "stdout",
     "output_type": "stream",
     "text": [
      "(916, 12)\n"
     ]
    },
    {
     "data": {
      "text/html": [
       "<div>\n",
       "<style scoped>\n",
       "    .dataframe tbody tr th:only-of-type {\n",
       "        vertical-align: middle;\n",
       "    }\n",
       "\n",
       "    .dataframe tbody tr th {\n",
       "        vertical-align: top;\n",
       "    }\n",
       "\n",
       "    .dataframe thead th {\n",
       "        text-align: right;\n",
       "    }\n",
       "</style>\n",
       "<table border=\"1\" class=\"dataframe\">\n",
       "  <thead>\n",
       "    <tr style=\"text-align: right;\">\n",
       "      <th></th>\n",
       "      <th>passengerid</th>\n",
       "      <th>survived</th>\n",
       "      <th>pclass</th>\n",
       "      <th>name</th>\n",
       "      <th>gender</th>\n",
       "      <th>age</th>\n",
       "      <th>sibsp</th>\n",
       "      <th>parch</th>\n",
       "      <th>ticket</th>\n",
       "      <th>fare</th>\n",
       "      <th>cabin</th>\n",
       "      <th>embarked</th>\n",
       "    </tr>\n",
       "  </thead>\n",
       "  <tbody>\n",
       "    <tr>\n",
       "      <th>0</th>\n",
       "      <td>0</td>\n",
       "      <td>0</td>\n",
       "      <td>2</td>\n",
       "      <td>Wheeler, Mr. Edwin Frederick\"\"</td>\n",
       "      <td>male</td>\n",
       "      <td>NaN</td>\n",
       "      <td>0</td>\n",
       "      <td>0</td>\n",
       "      <td>SC/PARIS 2159</td>\n",
       "      <td>12.8750</td>\n",
       "      <td>NaN</td>\n",
       "      <td>S</td>\n",
       "    </tr>\n",
       "    <tr>\n",
       "      <th>1</th>\n",
       "      <td>1</td>\n",
       "      <td>0</td>\n",
       "      <td>3</td>\n",
       "      <td>Henry, Miss. Delia</td>\n",
       "      <td>female</td>\n",
       "      <td>NaN</td>\n",
       "      <td>0</td>\n",
       "      <td>0</td>\n",
       "      <td>382649</td>\n",
       "      <td>7.7500</td>\n",
       "      <td>NaN</td>\n",
       "      <td>Q</td>\n",
       "    </tr>\n",
       "    <tr>\n",
       "      <th>2</th>\n",
       "      <td>2</td>\n",
       "      <td>1</td>\n",
       "      <td>1</td>\n",
       "      <td>Hays, Mrs. Charles Melville (Clara Jennings Gr...</td>\n",
       "      <td>female</td>\n",
       "      <td>52.0</td>\n",
       "      <td>1</td>\n",
       "      <td>1</td>\n",
       "      <td>12749</td>\n",
       "      <td>93.5000</td>\n",
       "      <td>B69</td>\n",
       "      <td>S</td>\n",
       "    </tr>\n",
       "    <tr>\n",
       "      <th>3</th>\n",
       "      <td>3</td>\n",
       "      <td>1</td>\n",
       "      <td>3</td>\n",
       "      <td>Andersson, Mr. August Edvard (\"Wennerstrom\")</td>\n",
       "      <td>male</td>\n",
       "      <td>27.0</td>\n",
       "      <td>0</td>\n",
       "      <td>0</td>\n",
       "      <td>350043</td>\n",
       "      <td>7.7958</td>\n",
       "      <td>NaN</td>\n",
       "      <td>S</td>\n",
       "    </tr>\n",
       "    <tr>\n",
       "      <th>4</th>\n",
       "      <td>4</td>\n",
       "      <td>0</td>\n",
       "      <td>2</td>\n",
       "      <td>Hold, Mr. Stephen</td>\n",
       "      <td>male</td>\n",
       "      <td>44.0</td>\n",
       "      <td>1</td>\n",
       "      <td>0</td>\n",
       "      <td>26707</td>\n",
       "      <td>26.0000</td>\n",
       "      <td>NaN</td>\n",
       "      <td>S</td>\n",
       "    </tr>\n",
       "  </tbody>\n",
       "</table>\n",
       "</div>"
      ],
      "text/plain": [
       "   passengerid  survived  pclass  \\\n",
       "0            0         0       2   \n",
       "1            1         0       3   \n",
       "2            2         1       1   \n",
       "3            3         1       3   \n",
       "4            4         0       2   \n",
       "\n",
       "                                                name  gender   age  sibsp  \\\n",
       "0                     Wheeler, Mr. Edwin Frederick\"\"    male   NaN      0   \n",
       "1                                 Henry, Miss. Delia  female   NaN      0   \n",
       "2  Hays, Mrs. Charles Melville (Clara Jennings Gr...  female  52.0      1   \n",
       "3       Andersson, Mr. August Edvard (\"Wennerstrom\")    male  27.0      0   \n",
       "4                                  Hold, Mr. Stephen    male  44.0      1   \n",
       "\n",
       "   parch         ticket     fare cabin embarked  \n",
       "0      0  SC/PARIS 2159  12.8750   NaN        S  \n",
       "1      0         382649   7.7500   NaN        Q  \n",
       "2      1          12749  93.5000   B69        S  \n",
       "3      0         350043   7.7958   NaN        S  \n",
       "4      0          26707  26.0000   NaN        S  "
      ]
     },
     "execution_count": 205,
     "metadata": {},
     "output_type": "execute_result"
    }
   ],
   "source": [
    "train = pd.read_csv(args.train_csv)\n",
    "print(f'{train.shape}')\n",
    "train.head()"
   ]
  },
  {
   "cell_type": "code",
   "execution_count": 206,
   "metadata": {},
   "outputs": [
    {
     "name": "stdout",
     "output_type": "stream",
     "text": [
      "(393, 11)\n"
     ]
    },
    {
     "data": {
      "text/html": [
       "<div>\n",
       "<style scoped>\n",
       "    .dataframe tbody tr th:only-of-type {\n",
       "        vertical-align: middle;\n",
       "    }\n",
       "\n",
       "    .dataframe tbody tr th {\n",
       "        vertical-align: top;\n",
       "    }\n",
       "\n",
       "    .dataframe thead th {\n",
       "        text-align: right;\n",
       "    }\n",
       "</style>\n",
       "<table border=\"1\" class=\"dataframe\">\n",
       "  <thead>\n",
       "    <tr style=\"text-align: right;\">\n",
       "      <th></th>\n",
       "      <th>passengerid</th>\n",
       "      <th>pclass</th>\n",
       "      <th>name</th>\n",
       "      <th>gender</th>\n",
       "      <th>age</th>\n",
       "      <th>sibsp</th>\n",
       "      <th>parch</th>\n",
       "      <th>ticket</th>\n",
       "      <th>fare</th>\n",
       "      <th>cabin</th>\n",
       "      <th>embarked</th>\n",
       "    </tr>\n",
       "  </thead>\n",
       "  <tbody>\n",
       "    <tr>\n",
       "      <th>0</th>\n",
       "      <td>916</td>\n",
       "      <td>3</td>\n",
       "      <td>McGowan, Miss. Anna \"Annie\"</td>\n",
       "      <td>female</td>\n",
       "      <td>15.0</td>\n",
       "      <td>0</td>\n",
       "      <td>0</td>\n",
       "      <td>330923</td>\n",
       "      <td>8.0292</td>\n",
       "      <td>NaN</td>\n",
       "      <td>Q</td>\n",
       "    </tr>\n",
       "    <tr>\n",
       "      <th>1</th>\n",
       "      <td>917</td>\n",
       "      <td>2</td>\n",
       "      <td>Pinsky, Mrs. (Rosa)</td>\n",
       "      <td>female</td>\n",
       "      <td>32.0</td>\n",
       "      <td>0</td>\n",
       "      <td>0</td>\n",
       "      <td>234604</td>\n",
       "      <td>13.0000</td>\n",
       "      <td>NaN</td>\n",
       "      <td>S</td>\n",
       "    </tr>\n",
       "    <tr>\n",
       "      <th>2</th>\n",
       "      <td>918</td>\n",
       "      <td>3</td>\n",
       "      <td>McCarthy, Miss. Catherine Katie\"\"</td>\n",
       "      <td>female</td>\n",
       "      <td>NaN</td>\n",
       "      <td>0</td>\n",
       "      <td>0</td>\n",
       "      <td>383123</td>\n",
       "      <td>7.7500</td>\n",
       "      <td>NaN</td>\n",
       "      <td>Q</td>\n",
       "    </tr>\n",
       "    <tr>\n",
       "      <th>3</th>\n",
       "      <td>919</td>\n",
       "      <td>3</td>\n",
       "      <td>Franklin, Mr. Charles (Charles Fardon)</td>\n",
       "      <td>male</td>\n",
       "      <td>NaN</td>\n",
       "      <td>0</td>\n",
       "      <td>0</td>\n",
       "      <td>SOTON/O.Q. 3101314</td>\n",
       "      <td>7.2500</td>\n",
       "      <td>NaN</td>\n",
       "      <td>S</td>\n",
       "    </tr>\n",
       "    <tr>\n",
       "      <th>4</th>\n",
       "      <td>920</td>\n",
       "      <td>1</td>\n",
       "      <td>Wick, Mrs. George Dennick (Mary Hitchcock)</td>\n",
       "      <td>female</td>\n",
       "      <td>45.0</td>\n",
       "      <td>1</td>\n",
       "      <td>1</td>\n",
       "      <td>36928</td>\n",
       "      <td>164.8667</td>\n",
       "      <td>NaN</td>\n",
       "      <td>S</td>\n",
       "    </tr>\n",
       "  </tbody>\n",
       "</table>\n",
       "</div>"
      ],
      "text/plain": [
       "   passengerid  pclass                                        name  gender  \\\n",
       "0          916       3                 McGowan, Miss. Anna \"Annie\"  female   \n",
       "1          917       2                         Pinsky, Mrs. (Rosa)  female   \n",
       "2          918       3           McCarthy, Miss. Catherine Katie\"\"  female   \n",
       "3          919       3      Franklin, Mr. Charles (Charles Fardon)    male   \n",
       "4          920       1  Wick, Mrs. George Dennick (Mary Hitchcock)  female   \n",
       "\n",
       "    age  sibsp  parch              ticket      fare cabin embarked  \n",
       "0  15.0      0      0              330923    8.0292   NaN        Q  \n",
       "1  32.0      0      0              234604   13.0000   NaN        S  \n",
       "2   NaN      0      0              383123    7.7500   NaN        Q  \n",
       "3   NaN      0      0  SOTON/O.Q. 3101314    7.2500   NaN        S  \n",
       "4  45.0      1      1               36928  164.8667   NaN        S  "
      ]
     },
     "execution_count": 206,
     "metadata": {},
     "output_type": "execute_result"
    }
   ],
   "source": [
    "test = pd.read_csv(args.test_csv)\n",
    "print(f'{test.shape}')\n",
    "test.head()"
   ]
  },
  {
   "cell_type": "code",
   "execution_count": 207,
   "metadata": {},
   "outputs": [
    {
     "name": "stdout",
     "output_type": "stream",
     "text": [
      "(393, 2)\n"
     ]
    },
    {
     "data": {
      "text/html": [
       "<div>\n",
       "<style scoped>\n",
       "    .dataframe tbody tr th:only-of-type {\n",
       "        vertical-align: middle;\n",
       "    }\n",
       "\n",
       "    .dataframe tbody tr th {\n",
       "        vertical-align: top;\n",
       "    }\n",
       "\n",
       "    .dataframe thead th {\n",
       "        text-align: right;\n",
       "    }\n",
       "</style>\n",
       "<table border=\"1\" class=\"dataframe\">\n",
       "  <thead>\n",
       "    <tr style=\"text-align: right;\">\n",
       "      <th></th>\n",
       "      <th>passengerid</th>\n",
       "      <th>survived</th>\n",
       "    </tr>\n",
       "  </thead>\n",
       "  <tbody>\n",
       "    <tr>\n",
       "      <th>0</th>\n",
       "      <td>916</td>\n",
       "      <td>0.5</td>\n",
       "    </tr>\n",
       "    <tr>\n",
       "      <th>1</th>\n",
       "      <td>917</td>\n",
       "      <td>0.5</td>\n",
       "    </tr>\n",
       "    <tr>\n",
       "      <th>2</th>\n",
       "      <td>918</td>\n",
       "      <td>0.5</td>\n",
       "    </tr>\n",
       "    <tr>\n",
       "      <th>3</th>\n",
       "      <td>919</td>\n",
       "      <td>0.5</td>\n",
       "    </tr>\n",
       "    <tr>\n",
       "      <th>4</th>\n",
       "      <td>920</td>\n",
       "      <td>0.5</td>\n",
       "    </tr>\n",
       "  </tbody>\n",
       "</table>\n",
       "</div>"
      ],
      "text/plain": [
       "   passengerid  survived\n",
       "0          916       0.5\n",
       "1          917       0.5\n",
       "2          918       0.5\n",
       "3          919       0.5\n",
       "4          920       0.5"
      ]
     },
     "execution_count": 207,
     "metadata": {},
     "output_type": "execute_result"
    }
   ],
   "source": [
    "submission = pd.read_csv(args.submission_csv)\n",
    "print(f'{submission.shape}')\n",
    "submission.head()"
   ]
  },
  {
   "cell_type": "code",
   "execution_count": 208,
   "metadata": {},
   "outputs": [
    {
     "data": {
      "text/plain": [
       "((916, 12), (393, 11))"
      ]
     },
     "execution_count": 208,
     "metadata": {},
     "output_type": "execute_result"
    }
   ],
   "source": [
    "ori_train = pd.read_csv(args.train_csv)\n",
    "ori_test = pd.read_csv(args.test_csv)\n",
    "\n",
    "ori_train.shape, ori_test.shape"
   ]
  },
  {
   "cell_type": "code",
   "execution_count": 209,
   "metadata": {},
   "outputs": [
    {
     "data": {
      "text/html": [
       "<div>\n",
       "<style scoped>\n",
       "    .dataframe tbody tr th:only-of-type {\n",
       "        vertical-align: middle;\n",
       "    }\n",
       "\n",
       "    .dataframe tbody tr th {\n",
       "        vertical-align: top;\n",
       "    }\n",
       "\n",
       "    .dataframe thead th {\n",
       "        text-align: right;\n",
       "    }\n",
       "</style>\n",
       "<table border=\"1\" class=\"dataframe\">\n",
       "  <thead>\n",
       "    <tr style=\"text-align: right;\">\n",
       "      <th></th>\n",
       "      <th>survived</th>\n",
       "      <th>pclass</th>\n",
       "      <th>name</th>\n",
       "      <th>gender</th>\n",
       "      <th>age</th>\n",
       "      <th>sibsp</th>\n",
       "      <th>parch</th>\n",
       "      <th>ticket</th>\n",
       "      <th>fare</th>\n",
       "      <th>cabin</th>\n",
       "      <th>embarked</th>\n",
       "    </tr>\n",
       "  </thead>\n",
       "  <tbody>\n",
       "    <tr>\n",
       "      <th>0</th>\n",
       "      <td>0</td>\n",
       "      <td>2</td>\n",
       "      <td>Wheeler, Mr. Edwin Frederick\"\"</td>\n",
       "      <td>male</td>\n",
       "      <td>NaN</td>\n",
       "      <td>0</td>\n",
       "      <td>0</td>\n",
       "      <td>SC/PARIS 2159</td>\n",
       "      <td>12.8750</td>\n",
       "      <td>NaN</td>\n",
       "      <td>S</td>\n",
       "    </tr>\n",
       "    <tr>\n",
       "      <th>1</th>\n",
       "      <td>0</td>\n",
       "      <td>3</td>\n",
       "      <td>Henry, Miss. Delia</td>\n",
       "      <td>female</td>\n",
       "      <td>NaN</td>\n",
       "      <td>0</td>\n",
       "      <td>0</td>\n",
       "      <td>382649</td>\n",
       "      <td>7.7500</td>\n",
       "      <td>NaN</td>\n",
       "      <td>Q</td>\n",
       "    </tr>\n",
       "    <tr>\n",
       "      <th>2</th>\n",
       "      <td>1</td>\n",
       "      <td>1</td>\n",
       "      <td>Hays, Mrs. Charles Melville (Clara Jennings Gr...</td>\n",
       "      <td>female</td>\n",
       "      <td>52.0</td>\n",
       "      <td>1</td>\n",
       "      <td>1</td>\n",
       "      <td>12749</td>\n",
       "      <td>93.5000</td>\n",
       "      <td>B69</td>\n",
       "      <td>S</td>\n",
       "    </tr>\n",
       "    <tr>\n",
       "      <th>3</th>\n",
       "      <td>1</td>\n",
       "      <td>3</td>\n",
       "      <td>Andersson, Mr. August Edvard (\"Wennerstrom\")</td>\n",
       "      <td>male</td>\n",
       "      <td>27.0</td>\n",
       "      <td>0</td>\n",
       "      <td>0</td>\n",
       "      <td>350043</td>\n",
       "      <td>7.7958</td>\n",
       "      <td>NaN</td>\n",
       "      <td>S</td>\n",
       "    </tr>\n",
       "    <tr>\n",
       "      <th>4</th>\n",
       "      <td>0</td>\n",
       "      <td>2</td>\n",
       "      <td>Hold, Mr. Stephen</td>\n",
       "      <td>male</td>\n",
       "      <td>44.0</td>\n",
       "      <td>1</td>\n",
       "      <td>0</td>\n",
       "      <td>26707</td>\n",
       "      <td>26.0000</td>\n",
       "      <td>NaN</td>\n",
       "      <td>S</td>\n",
       "    </tr>\n",
       "  </tbody>\n",
       "</table>\n",
       "</div>"
      ],
      "text/plain": [
       "   survived  pclass                                               name  \\\n",
       "0         0       2                     Wheeler, Mr. Edwin Frederick\"\"   \n",
       "1         0       3                                 Henry, Miss. Delia   \n",
       "2         1       1  Hays, Mrs. Charles Melville (Clara Jennings Gr...   \n",
       "3         1       3       Andersson, Mr. August Edvard (\"Wennerstrom\")   \n",
       "4         0       2                                  Hold, Mr. Stephen   \n",
       "\n",
       "   gender   age  sibsp  parch         ticket     fare cabin embarked  \n",
       "0    male   NaN      0      0  SC/PARIS 2159  12.8750   NaN        S  \n",
       "1  female   NaN      0      0         382649   7.7500   NaN        Q  \n",
       "2  female  52.0      1      1          12749  93.5000   B69        S  \n",
       "3    male  27.0      0      0         350043   7.7958   NaN        S  \n",
       "4    male  44.0      1      0          26707  26.0000   NaN        S  "
      ]
     },
     "execution_count": 209,
     "metadata": {},
     "output_type": "execute_result"
    }
   ],
   "source": [
    "ori_train.drop('passengerid', axis=1, inplace=True)\n",
    "ori_train.head()"
   ]
  },
  {
   "cell_type": "code",
   "execution_count": 210,
   "metadata": {},
   "outputs": [
    {
     "name": "stdout",
     "output_type": "stream",
     "text": [
      "(393, 10)\n"
     ]
    },
    {
     "data": {
      "text/html": [
       "<div>\n",
       "<style scoped>\n",
       "    .dataframe tbody tr th:only-of-type {\n",
       "        vertical-align: middle;\n",
       "    }\n",
       "\n",
       "    .dataframe tbody tr th {\n",
       "        vertical-align: top;\n",
       "    }\n",
       "\n",
       "    .dataframe thead th {\n",
       "        text-align: right;\n",
       "    }\n",
       "</style>\n",
       "<table border=\"1\" class=\"dataframe\">\n",
       "  <thead>\n",
       "    <tr style=\"text-align: right;\">\n",
       "      <th></th>\n",
       "      <th>pclass</th>\n",
       "      <th>name</th>\n",
       "      <th>gender</th>\n",
       "      <th>age</th>\n",
       "      <th>sibsp</th>\n",
       "      <th>parch</th>\n",
       "      <th>ticket</th>\n",
       "      <th>fare</th>\n",
       "      <th>cabin</th>\n",
       "      <th>embarked</th>\n",
       "    </tr>\n",
       "    <tr>\n",
       "      <th>passengerid</th>\n",
       "      <th></th>\n",
       "      <th></th>\n",
       "      <th></th>\n",
       "      <th></th>\n",
       "      <th></th>\n",
       "      <th></th>\n",
       "      <th></th>\n",
       "      <th></th>\n",
       "      <th></th>\n",
       "      <th></th>\n",
       "    </tr>\n",
       "  </thead>\n",
       "  <tbody>\n",
       "    <tr>\n",
       "      <th>916</th>\n",
       "      <td>3</td>\n",
       "      <td>McGowan, Miss. Anna \"Annie\"</td>\n",
       "      <td>female</td>\n",
       "      <td>15.0</td>\n",
       "      <td>0</td>\n",
       "      <td>0</td>\n",
       "      <td>330923</td>\n",
       "      <td>8.0292</td>\n",
       "      <td>NaN</td>\n",
       "      <td>Q</td>\n",
       "    </tr>\n",
       "    <tr>\n",
       "      <th>917</th>\n",
       "      <td>2</td>\n",
       "      <td>Pinsky, Mrs. (Rosa)</td>\n",
       "      <td>female</td>\n",
       "      <td>32.0</td>\n",
       "      <td>0</td>\n",
       "      <td>0</td>\n",
       "      <td>234604</td>\n",
       "      <td>13.0000</td>\n",
       "      <td>NaN</td>\n",
       "      <td>S</td>\n",
       "    </tr>\n",
       "    <tr>\n",
       "      <th>918</th>\n",
       "      <td>3</td>\n",
       "      <td>McCarthy, Miss. Catherine Katie\"\"</td>\n",
       "      <td>female</td>\n",
       "      <td>NaN</td>\n",
       "      <td>0</td>\n",
       "      <td>0</td>\n",
       "      <td>383123</td>\n",
       "      <td>7.7500</td>\n",
       "      <td>NaN</td>\n",
       "      <td>Q</td>\n",
       "    </tr>\n",
       "    <tr>\n",
       "      <th>919</th>\n",
       "      <td>3</td>\n",
       "      <td>Franklin, Mr. Charles (Charles Fardon)</td>\n",
       "      <td>male</td>\n",
       "      <td>NaN</td>\n",
       "      <td>0</td>\n",
       "      <td>0</td>\n",
       "      <td>SOTON/O.Q. 3101314</td>\n",
       "      <td>7.2500</td>\n",
       "      <td>NaN</td>\n",
       "      <td>S</td>\n",
       "    </tr>\n",
       "    <tr>\n",
       "      <th>920</th>\n",
       "      <td>1</td>\n",
       "      <td>Wick, Mrs. George Dennick (Mary Hitchcock)</td>\n",
       "      <td>female</td>\n",
       "      <td>45.0</td>\n",
       "      <td>1</td>\n",
       "      <td>1</td>\n",
       "      <td>36928</td>\n",
       "      <td>164.8667</td>\n",
       "      <td>NaN</td>\n",
       "      <td>S</td>\n",
       "    </tr>\n",
       "  </tbody>\n",
       "</table>\n",
       "</div>"
      ],
      "text/plain": [
       "             pclass                                        name  gender   age  \\\n",
       "passengerid                                                                     \n",
       "916               3                 McGowan, Miss. Anna \"Annie\"  female  15.0   \n",
       "917               2                         Pinsky, Mrs. (Rosa)  female  32.0   \n",
       "918               3           McCarthy, Miss. Catherine Katie\"\"  female   NaN   \n",
       "919               3      Franklin, Mr. Charles (Charles Fardon)    male   NaN   \n",
       "920               1  Wick, Mrs. George Dennick (Mary Hitchcock)  female  45.0   \n",
       "\n",
       "             sibsp  parch              ticket      fare cabin embarked  \n",
       "passengerid                                                             \n",
       "916              0      0              330923    8.0292   NaN        Q  \n",
       "917              0      0              234604   13.0000   NaN        S  \n",
       "918              0      0              383123    7.7500   NaN        Q  \n",
       "919              0      0  SOTON/O.Q. 3101314    7.2500   NaN        S  \n",
       "920              1      1               36928  164.8667   NaN        S  "
      ]
     },
     "execution_count": 210,
     "metadata": {},
     "output_type": "execute_result"
    }
   ],
   "source": [
    "ori_test.set_index(['passengerid'], inplace=True) \n",
    "print(f'{ori_test.shape}')\n",
    "ori_test.head()"
   ]
  },
  {
   "cell_type": "code",
   "execution_count": 211,
   "metadata": {},
   "outputs": [
    {
     "data": {
      "text/plain": [
       "((916, 11), (393, 10))"
      ]
     },
     "execution_count": 211,
     "metadata": {},
     "output_type": "execute_result"
    }
   ],
   "source": [
    "ori_train.shape, ori_test.shape"
   ]
  },
  {
   "attachments": {},
   "cell_type": "markdown",
   "metadata": {},
   "source": [
    "# EDA"
   ]
  },
  {
   "cell_type": "code",
   "execution_count": 212,
   "metadata": {},
   "outputs": [
    {
     "data": {
      "image/png": "[encoded data removed]",
      "text/plain": [
       "<Figure size 640x480 with 2 Axes>"
      ]
     },
     "metadata": {},
     "output_type": "display_data"
    }
   ],
   "source": [
    "g = sns.heatmap(train.iloc[:, 1:].corr(),\n",
    "                annot=True, \n",
    "                fmt = \".2f\", \n",
    "                cmap = \"PuBu\")"
   ]
  },
  {
   "cell_type": "code",
   "execution_count": 213,
   "metadata": {},
   "outputs": [
    {
     "data": {
      "image/png": "[encoded data removed]",
      "text/plain": [
       "<Figure size 640x480 with 1 Axes>"
      ]
     },
     "metadata": {},
     "output_type": "display_data"
    }
   ],
   "source": [
    "g = sns.barplot(x=\"gender\",y=\"survived\",data=train)\n",
    "g = g.set_ylabel(\"Survived by gender\")"
   ]
  },
  {
   "attachments": {},
   "cell_type": "markdown",
   "metadata": {},
   "source": [
    "- 남성이 많이 사망했다."
   ]
  },
  {
   "cell_type": "code",
   "execution_count": 214,
   "metadata": {},
   "outputs": [
    {
     "data": {
      "image/png": "[encoded data removed]",
      "text/plain": [
       "<Figure size 640x480 with 1 Axes>"
      ]
     },
     "metadata": {},
     "output_type": "display_data"
    }
   ],
   "source": [
    "g = sns.barplot(x=\"embarked\",y=\"survived\",data=train)\n",
    "g = g.set_ylabel(\"Survived by embarekd\")"
   ]
  },
  {
   "attachments": {},
   "cell_type": "markdown",
   "metadata": {},
   "source": [
    "- Q에서 탑승한 사람들이 생존률이 높다. "
   ]
  },
  {
   "cell_type": "code",
   "execution_count": 215,
   "metadata": {},
   "outputs": [
    {
     "data": {
      "image/png": "[encoded data removed]",
      "text/plain": [
       "<Figure size 640x480 with 1 Axes>"
      ]
     },
     "metadata": {},
     "output_type": "display_data"
    }
   ],
   "source": [
    "g = sns.barplot(x=\"pclass\",y=\"survived\",data=train)\n",
    "g = g.set_ylabel(\"Survived by pclass\")"
   ]
  },
  {
   "attachments": {},
   "cell_type": "markdown",
   "metadata": {},
   "source": [
    "- pclass 순서대로 생존률이 높다."
   ]
  },
  {
   "cell_type": "code",
   "execution_count": 216,
   "metadata": {},
   "outputs": [
    {
     "data": {
      "image/png": "[encoded data removed]",
      "text/plain": [
       "<Figure size 1800x600 with 3 Axes>"
      ]
     },
     "metadata": {},
     "output_type": "display_data"
    }
   ],
   "source": [
    "g = sns.catplot(x=\"pclass\", data=train, height=6, kind=\"count\", palette=\"Spectral\", col='embarked')\n",
    "g = g.set_ylabels(\"count\")"
   ]
  },
  {
   "attachments": {},
   "cell_type": "markdown",
   "metadata": {},
   "source": [
    "- pclass 3의 승선 비율이 높은 S 항구는 사망률이 높을 것이다."
   ]
  },
  {
   "cell_type": "code",
   "execution_count": 217,
   "metadata": {},
   "outputs": [
    {
     "data": {
      "image/png": "[encoded data removed]",
      "text/plain": [
       "<Figure size 600x300 with 2 Axes>"
      ]
     },
     "metadata": {},
     "output_type": "display_data"
    }
   ],
   "source": [
    "g = sns.FacetGrid(train, col='survived')\n",
    "g = g.map(sns.distplot, \"age\")"
   ]
  },
  {
   "cell_type": "code",
   "execution_count": 218,
   "metadata": {},
   "outputs": [
    {
     "data": {
      "image/png": "[encoded data removed]",
      "text/plain": [
       "<Figure size 640x480 with 1 Axes>"
      ]
     },
     "metadata": {},
     "output_type": "display_data"
    }
   ],
   "source": [
    "g = sns.kdeplot(train[\"age\"][(train[\"survived\"] == 0) & (train[\"age\"].notnull())], color=\"Red\", shade = True)\n",
    "g = sns.kdeplot(train[\"age\"][(train[\"survived\"] == 1) & (train[\"age\"].notnull())], ax =g, color=\"Blue\", shade= True)\n",
    "g.set_xlabel(\"age\")\n",
    "g.set_ylabel(\"rate\")\n",
    "g = g.legend([\"Not Survived\",\"Survived\"])"
   ]
  },
  {
   "attachments": {},
   "cell_type": "markdown",
   "metadata": {},
   "source": [
    "- 어린 아이들은 생존률이 높다.\n",
    "- 20-40세 사이는 생존률이 낮아 보인다."
   ]
  },
  {
   "cell_type": "code",
   "execution_count": 219,
   "metadata": {},
   "outputs": [
    {
     "data": {
      "image/png": "[encoded data removed]",
      "text/plain": [
       "<Figure size 640x480 with 1 Axes>"
      ]
     },
     "metadata": {},
     "output_type": "display_data"
    }
   ],
   "source": [
    "g = sns.kdeplot(train[\"fare\"][(train[\"survived\"] == 0) & (train[\"age\"].notnull())], color=\"Red\", shade = True)\n",
    "g = sns.kdeplot(train[\"fare\"][(train[\"survived\"] == 1) & (train[\"age\"].notnull())], ax =g, color=\"Blue\", shade= True)\n",
    "g.set_xlabel(\"fare\")\n",
    "g.set_ylabel(\"rate\")\n",
    "g = g.legend([\"Not Survived\",\"Survived\"])"
   ]
  },
  {
   "attachments": {},
   "cell_type": "markdown",
   "metadata": {},
   "source": [
    "- 지불한 비용이 낮을수록 생존률이 낮다."
   ]
  },
  {
   "cell_type": "code",
   "execution_count": 220,
   "metadata": {},
   "outputs": [
    {
     "data": {
      "image/png": "[encoded data removed]",
      "text/plain": [
       "<Figure size 640x480 with 1 Axes>"
      ]
     },
     "metadata": {},
     "output_type": "display_data"
    }
   ],
   "source": [
    "g = sns.barplot(x=\"pclass\",y=\"fare\",data=train)\n",
    "g = g.set_ylabel(\"fare by pclass\")"
   ]
  },
  {
   "attachments": {},
   "cell_type": "markdown",
   "metadata": {},
   "source": [
    "- 지불 비용은 pclass 순서대로 높다."
   ]
  },
  {
   "cell_type": "code",
   "execution_count": 221,
   "metadata": {},
   "outputs": [
    {
     "data": {
      "image/png": "[encoded data removed]",
      "text/plain": [
       "<Figure size 1200x600 with 2 Axes>"
      ]
     },
     "metadata": {},
     "output_type": "display_data"
    }
   ],
   "source": [
    "g = sns.catplot(x=\"sibsp\", data=train, height=6, kind=\"count\", palette=\"Spectral\", col='survived')\n",
    "g = g.set_ylabels(\"count\")"
   ]
  },
  {
   "cell_type": "code",
   "execution_count": 222,
   "metadata": {},
   "outputs": [
    {
     "data": {
      "image/png": "[encoded data removed]",
      "text/plain": [
       "<Figure size 640x480 with 1 Axes>"
      ]
     },
     "metadata": {},
     "output_type": "display_data"
    }
   ],
   "source": [
    "g = sns.kdeplot(train[\"sibsp\"][(train[\"survived\"] == 0) & (train[\"sibsp\"].notnull())], color=\"Red\", shade = True)\n",
    "g = sns.kdeplot(train[\"sibsp\"][(train[\"survived\"] == 1) & (train[\"sibsp\"].notnull())], ax =g, color=\"Blue\", shade= True)\n",
    "g.set_xlabel(\"sibsp\")\n",
    "g.set_ylabel(\"rate\")\n",
    "g = g.legend([\"Not Survived\",\"Survived\"])"
   ]
  },
  {
   "attachments": {},
   "cell_type": "markdown",
   "metadata": {},
   "source": [
    "- 동승한 자매, 배우자 수가 없을 때보다 소수 있을 때 생존률이 높다."
   ]
  },
  {
   "cell_type": "code",
   "execution_count": 223,
   "metadata": {},
   "outputs": [
    {
     "data": {
      "image/png": "[encoded data removed]",
      "text/plain": [
       "<Figure size 1200x600 with 2 Axes>"
      ]
     },
     "metadata": {},
     "output_type": "display_data"
    }
   ],
   "source": [
    "g = sns.catplot(x=\"parch\", data=train, height=6, kind=\"count\", palette=\"Spectral\", col='survived')\n",
    "g = g.set_ylabels(\"count\")"
   ]
  },
  {
   "cell_type": "code",
   "execution_count": 224,
   "metadata": {},
   "outputs": [
    {
     "data": {
      "image/png": "[encoded data removed]",
      "text/plain": [
       "<Figure size 640x480 with 1 Axes>"
      ]
     },
     "metadata": {},
     "output_type": "display_data"
    }
   ],
   "source": [
    "g = sns.kdeplot(train[\"parch\"][(train[\"survived\"] == 0) & (train[\"parch\"].notnull())], color=\"Red\", shade = True)\n",
    "g = sns.kdeplot(train[\"parch\"][(train[\"survived\"] == 1) & (train[\"parch\"].notnull())], ax=g, color=\"Blue\", shade= True)\n",
    "g.set_xlabel(\"parch\")\n",
    "g.set_ylabel(\"rate\")\n",
    "g = g.legend([\"Not Survived\",\"Survived\"])"
   ]
  },
  {
   "attachments": {},
   "cell_type": "markdown",
   "metadata": {},
   "source": [
    "- 동승한 부모, 자녀가 없으면 사망률이 매우 높다."
   ]
  },
  {
   "attachments": {},
   "cell_type": "markdown",
   "metadata": {},
   "source": [
    "# 데이터 분리"
   ]
  },
  {
   "cell_type": "code",
   "execution_count": 225,
   "metadata": {},
   "outputs": [],
   "source": [
    "from sklearn.model_selection import train_test_split"
   ]
  },
  {
   "cell_type": "code",
   "execution_count": 226,
   "metadata": {},
   "outputs": [],
   "source": [
    "y = ori_train['survived']\n",
    "X = ori_train.drop(['survived'], axis=1)"
   ]
  },
  {
   "cell_type": "code",
   "execution_count": 227,
   "metadata": {},
   "outputs": [
    {
     "data": {
      "text/plain": [
       "((641, 10), (275, 10), (641,), (275,))"
      ]
     },
     "execution_count": 227,
     "metadata": {},
     "output_type": "execute_result"
    }
   ],
   "source": [
    "X_tr, X_te, y_tr, y_te = train_test_split(X, y, stratify=y, test_size=0.3, random_state = args.random_state)\n",
    "\n",
    "X_tr.shape, X_te.shape, y_tr.shape, y_te.shape"
   ]
  },
  {
   "attachments": {},
   "cell_type": "markdown",
   "metadata": {},
   "source": [
    "# Model Version 1"
   ]
  },
  {
   "cell_type": "code",
   "execution_count": 228,
   "metadata": {},
   "outputs": [
    {
     "data": {
      "text/plain": [
       "((641, 10), (275, 10), (393, 10))"
      ]
     },
     "execution_count": 228,
     "metadata": {},
     "output_type": "execute_result"
    }
   ],
   "source": [
    "train = X_tr.copy() \n",
    "test = X_te.copy()\n",
    "ori_te = ori_test.copy()\n",
    "\n",
    "train.shape, test.shape, ori_te.shape"
   ]
  },
  {
   "attachments": {},
   "cell_type": "markdown",
   "metadata": {},
   "source": [
    "## Data Preprocessing"
   ]
  },
  {
   "cell_type": "code",
   "execution_count": 229,
   "metadata": {},
   "outputs": [
    {
     "name": "stdout",
     "output_type": "stream",
     "text": [
      "<class 'pandas.core.frame.DataFrame'>\n",
      "Int64Index: 641 entries, 812 to 277\n",
      "Data columns (total 10 columns):\n",
      " #   Column    Non-Null Count  Dtype  \n",
      "---  ------    --------------  -----  \n",
      " 0   pclass    641 non-null    int64  \n",
      " 1   name      641 non-null    object \n",
      " 2   gender    641 non-null    object \n",
      " 3   age       512 non-null    float64\n",
      " 4   sibsp     641 non-null    int64  \n",
      " 5   parch     641 non-null    int64  \n",
      " 6   ticket    641 non-null    object \n",
      " 7   fare      641 non-null    float64\n",
      " 8   cabin     135 non-null    object \n",
      " 9   embarked  641 non-null    object \n",
      "dtypes: float64(2), int64(3), object(5)\n",
      "memory usage: 55.1+ KB\n"
     ]
    }
   ],
   "source": [
    "train.info()"
   ]
  },
  {
   "cell_type": "code",
   "execution_count": 230,
   "metadata": {},
   "outputs": [
    {
     "data": {
      "text/html": [
       "<div>\n",
       "<style scoped>\n",
       "    .dataframe tbody tr th:only-of-type {\n",
       "        vertical-align: middle;\n",
       "    }\n",
       "\n",
       "    .dataframe tbody tr th {\n",
       "        vertical-align: top;\n",
       "    }\n",
       "\n",
       "    .dataframe thead th {\n",
       "        text-align: right;\n",
       "    }\n",
       "</style>\n",
       "<table border=\"1\" class=\"dataframe\">\n",
       "  <thead>\n",
       "    <tr style=\"text-align: right;\">\n",
       "      <th></th>\n",
       "      <th>pclass</th>\n",
       "      <th>age</th>\n",
       "      <th>sibsp</th>\n",
       "      <th>parch</th>\n",
       "      <th>fare</th>\n",
       "    </tr>\n",
       "  </thead>\n",
       "  <tbody>\n",
       "    <tr>\n",
       "      <th>count</th>\n",
       "      <td>641.000000</td>\n",
       "      <td>512.000000</td>\n",
       "      <td>641.000000</td>\n",
       "      <td>641.000000</td>\n",
       "      <td>641.000000</td>\n",
       "    </tr>\n",
       "    <tr>\n",
       "      <th>mean</th>\n",
       "      <td>2.305772</td>\n",
       "      <td>30.344082</td>\n",
       "      <td>0.466459</td>\n",
       "      <td>0.368175</td>\n",
       "      <td>31.654446</td>\n",
       "    </tr>\n",
       "    <tr>\n",
       "      <th>std</th>\n",
       "      <td>0.829221</td>\n",
       "      <td>14.492658</td>\n",
       "      <td>0.961386</td>\n",
       "      <td>0.897140</td>\n",
       "      <td>49.827609</td>\n",
       "    </tr>\n",
       "    <tr>\n",
       "      <th>min</th>\n",
       "      <td>1.000000</td>\n",
       "      <td>0.170000</td>\n",
       "      <td>0.000000</td>\n",
       "      <td>0.000000</td>\n",
       "      <td>0.000000</td>\n",
       "    </tr>\n",
       "    <tr>\n",
       "      <th>25%</th>\n",
       "      <td>2.000000</td>\n",
       "      <td>21.000000</td>\n",
       "      <td>0.000000</td>\n",
       "      <td>0.000000</td>\n",
       "      <td>7.895800</td>\n",
       "    </tr>\n",
       "    <tr>\n",
       "      <th>50%</th>\n",
       "      <td>3.000000</td>\n",
       "      <td>28.000000</td>\n",
       "      <td>0.000000</td>\n",
       "      <td>0.000000</td>\n",
       "      <td>14.400000</td>\n",
       "    </tr>\n",
       "    <tr>\n",
       "      <th>75%</th>\n",
       "      <td>3.000000</td>\n",
       "      <td>38.000000</td>\n",
       "      <td>1.000000</td>\n",
       "      <td>0.000000</td>\n",
       "      <td>30.000000</td>\n",
       "    </tr>\n",
       "    <tr>\n",
       "      <th>max</th>\n",
       "      <td>3.000000</td>\n",
       "      <td>80.000000</td>\n",
       "      <td>8.000000</td>\n",
       "      <td>9.000000</td>\n",
       "      <td>512.329200</td>\n",
       "    </tr>\n",
       "  </tbody>\n",
       "</table>\n",
       "</div>"
      ],
      "text/plain": [
       "           pclass         age       sibsp       parch        fare\n",
       "count  641.000000  512.000000  641.000000  641.000000  641.000000\n",
       "mean     2.305772   30.344082    0.466459    0.368175   31.654446\n",
       "std      0.829221   14.492658    0.961386    0.897140   49.827609\n",
       "min      1.000000    0.170000    0.000000    0.000000    0.000000\n",
       "25%      2.000000   21.000000    0.000000    0.000000    7.895800\n",
       "50%      3.000000   28.000000    0.000000    0.000000   14.400000\n",
       "75%      3.000000   38.000000    1.000000    0.000000   30.000000\n",
       "max      3.000000   80.000000    8.000000    9.000000  512.329200"
      ]
     },
     "execution_count": 230,
     "metadata": {},
     "output_type": "execute_result"
    }
   ],
   "source": [
    "train.describe()"
   ]
  },
  {
   "cell_type": "code",
   "execution_count": 231,
   "metadata": {},
   "outputs": [
    {
     "data": {
      "text/html": [
       "<div>\n",
       "<style scoped>\n",
       "    .dataframe tbody tr th:only-of-type {\n",
       "        vertical-align: middle;\n",
       "    }\n",
       "\n",
       "    .dataframe tbody tr th {\n",
       "        vertical-align: top;\n",
       "    }\n",
       "\n",
       "    .dataframe thead th {\n",
       "        text-align: right;\n",
       "    }\n",
       "</style>\n",
       "<table border=\"1\" class=\"dataframe\">\n",
       "  <thead>\n",
       "    <tr style=\"text-align: right;\">\n",
       "      <th></th>\n",
       "      <th>name</th>\n",
       "      <th>gender</th>\n",
       "      <th>ticket</th>\n",
       "      <th>cabin</th>\n",
       "      <th>embarked</th>\n",
       "    </tr>\n",
       "  </thead>\n",
       "  <tbody>\n",
       "    <tr>\n",
       "      <th>count</th>\n",
       "      <td>641</td>\n",
       "      <td>641</td>\n",
       "      <td>641</td>\n",
       "      <td>135</td>\n",
       "      <td>641</td>\n",
       "    </tr>\n",
       "    <tr>\n",
       "      <th>unique</th>\n",
       "      <td>641</td>\n",
       "      <td>2</td>\n",
       "      <td>529</td>\n",
       "      <td>110</td>\n",
       "      <td>3</td>\n",
       "    </tr>\n",
       "    <tr>\n",
       "      <th>top</th>\n",
       "      <td>Ohman, Miss. Velin</td>\n",
       "      <td>male</td>\n",
       "      <td>3101295</td>\n",
       "      <td>B96 B98</td>\n",
       "      <td>S</td>\n",
       "    </tr>\n",
       "    <tr>\n",
       "      <th>freq</th>\n",
       "      <td>1</td>\n",
       "      <td>407</td>\n",
       "      <td>5</td>\n",
       "      <td>3</td>\n",
       "      <td>455</td>\n",
       "    </tr>\n",
       "  </tbody>\n",
       "</table>\n",
       "</div>"
      ],
      "text/plain": [
       "                      name gender   ticket    cabin embarked\n",
       "count                  641    641      641      135      641\n",
       "unique                 641      2      529      110        3\n",
       "top     Ohman, Miss. Velin   male  3101295  B96 B98        S\n",
       "freq                     1    407        5        3      455"
      ]
     },
     "execution_count": 231,
     "metadata": {},
     "output_type": "execute_result"
    }
   ],
   "source": [
    "train.describe(include='O')"
   ]
  },
  {
   "attachments": {},
   "cell_type": "markdown",
   "metadata": {},
   "source": [
    "### Drop Values\n",
    "- 지나치게 세분화된 데이터들을 drop한다."
   ]
  },
  {
   "cell_type": "code",
   "execution_count": 232,
   "metadata": {},
   "outputs": [
    {
     "data": {
      "text/plain": [
       "110"
      ]
     },
     "execution_count": 232,
     "metadata": {},
     "output_type": "execute_result"
    }
   ],
   "source": [
    "train['cabin'].nunique()"
   ]
  },
  {
   "cell_type": "code",
   "execution_count": 233,
   "metadata": {},
   "outputs": [
    {
     "data": {
      "text/plain": [
       "529"
      ]
     },
     "execution_count": 233,
     "metadata": {},
     "output_type": "execute_result"
    }
   ],
   "source": [
    "train['ticket'].nunique()"
   ]
  },
  {
   "cell_type": "code",
   "execution_count": 234,
   "metadata": {},
   "outputs": [
    {
     "name": "stdout",
     "output_type": "stream",
     "text": [
      "(641, 8) (275, 8)\n"
     ]
    }
   ],
   "source": [
    "train.drop(['cabin', 'ticket'], axis=1, inplace=True)\n",
    "test.drop(['cabin', 'ticket'], axis=1, inplace=True)\n",
    "ori_te.drop(['cabin', 'ticket'], axis=1, inplace=True)\n",
    "\n",
    "print(train.shape, test.shape)"
   ]
  },
  {
   "attachments": {},
   "cell_type": "markdown",
   "metadata": {},
   "source": [
    "### Missing Values"
   ]
  },
  {
   "cell_type": "code",
   "execution_count": 235,
   "metadata": {},
   "outputs": [
    {
     "data": {
      "text/plain": [
       "pclass        0\n",
       "name          0\n",
       "gender        0\n",
       "age         129\n",
       "sibsp         0\n",
       "parch         0\n",
       "fare          0\n",
       "embarked      0\n",
       "dtype: int64"
      ]
     },
     "execution_count": 235,
     "metadata": {},
     "output_type": "execute_result"
    }
   ],
   "source": [
    "train.isnull().sum()"
   ]
  },
  {
   "cell_type": "code",
   "execution_count": 236,
   "metadata": {},
   "outputs": [
    {
     "data": {
      "text/plain": [
       "pclass       0\n",
       "name         0\n",
       "gender       0\n",
       "age         51\n",
       "sibsp        0\n",
       "parch        0\n",
       "fare         0\n",
       "embarked     1\n",
       "dtype: int64"
      ]
     },
     "execution_count": 236,
     "metadata": {},
     "output_type": "execute_result"
    }
   ],
   "source": [
    "test.isnull().sum()"
   ]
  },
  {
   "cell_type": "code",
   "execution_count": 237,
   "metadata": {},
   "outputs": [
    {
     "data": {
      "text/plain": [
       "pclass       0\n",
       "name         0\n",
       "gender       0\n",
       "age         83\n",
       "sibsp        0\n",
       "parch        0\n",
       "fare         1\n",
       "embarked     1\n",
       "dtype: int64"
      ]
     },
     "execution_count": 237,
     "metadata": {},
     "output_type": "execute_result"
    }
   ],
   "source": [
    "ori_te.isnull().sum()"
   ]
  },
  {
   "attachments": {},
   "cell_type": "markdown",
   "metadata": {},
   "source": [
    "#### age\n",
    "- 원래 데이터의 분포를 최대한 보존하기 위해 train에서 random sampling 한다."
   ]
  },
  {
   "cell_type": "code",
   "execution_count": 238,
   "metadata": {},
   "outputs": [
    {
     "data": {
      "text/html": [
       "<div>\n",
       "<style scoped>\n",
       "    .dataframe tbody tr th:only-of-type {\n",
       "        vertical-align: middle;\n",
       "    }\n",
       "\n",
       "    .dataframe tbody tr th {\n",
       "        vertical-align: top;\n",
       "    }\n",
       "\n",
       "    .dataframe thead th {\n",
       "        text-align: right;\n",
       "    }\n",
       "</style>\n",
       "<table border=\"1\" class=\"dataframe\">\n",
       "  <thead>\n",
       "    <tr style=\"text-align: right;\">\n",
       "      <th></th>\n",
       "      <th>pclass</th>\n",
       "      <th>name</th>\n",
       "      <th>gender</th>\n",
       "      <th>age</th>\n",
       "      <th>sibsp</th>\n",
       "      <th>parch</th>\n",
       "      <th>fare</th>\n",
       "      <th>embarked</th>\n",
       "    </tr>\n",
       "  </thead>\n",
       "  <tbody>\n",
       "    <tr>\n",
       "      <th>812</th>\n",
       "      <td>3</td>\n",
       "      <td>Ohman, Miss. Velin</td>\n",
       "      <td>female</td>\n",
       "      <td>22.0</td>\n",
       "      <td>0</td>\n",
       "      <td>0</td>\n",
       "      <td>7.7750</td>\n",
       "      <td>S</td>\n",
       "    </tr>\n",
       "    <tr>\n",
       "      <th>134</th>\n",
       "      <td>3</td>\n",
       "      <td>Buckley, Mr. Daniel</td>\n",
       "      <td>male</td>\n",
       "      <td>21.0</td>\n",
       "      <td>0</td>\n",
       "      <td>0</td>\n",
       "      <td>7.8208</td>\n",
       "      <td>Q</td>\n",
       "    </tr>\n",
       "    <tr>\n",
       "      <th>390</th>\n",
       "      <td>3</td>\n",
       "      <td>Jonsson, Mr. Carl</td>\n",
       "      <td>male</td>\n",
       "      <td>32.0</td>\n",
       "      <td>0</td>\n",
       "      <td>0</td>\n",
       "      <td>7.8542</td>\n",
       "      <td>S</td>\n",
       "    </tr>\n",
       "    <tr>\n",
       "      <th>305</th>\n",
       "      <td>3</td>\n",
       "      <td>Hassan, Mr. Houssein G N</td>\n",
       "      <td>male</td>\n",
       "      <td>11.0</td>\n",
       "      <td>0</td>\n",
       "      <td>0</td>\n",
       "      <td>18.7875</td>\n",
       "      <td>C</td>\n",
       "    </tr>\n",
       "    <tr>\n",
       "      <th>203</th>\n",
       "      <td>3</td>\n",
       "      <td>Corn, Mr. Harry</td>\n",
       "      <td>male</td>\n",
       "      <td>30.0</td>\n",
       "      <td>0</td>\n",
       "      <td>0</td>\n",
       "      <td>8.0500</td>\n",
       "      <td>S</td>\n",
       "    </tr>\n",
       "  </tbody>\n",
       "</table>\n",
       "</div>"
      ],
      "text/plain": [
       "     pclass                      name  gender   age  sibsp  parch     fare  \\\n",
       "812       3        Ohman, Miss. Velin  female  22.0      0      0   7.7750   \n",
       "134       3       Buckley, Mr. Daniel    male  21.0      0      0   7.8208   \n",
       "390       3         Jonsson, Mr. Carl    male  32.0      0      0   7.8542   \n",
       "305       3  Hassan, Mr. Houssein G N    male  11.0      0      0  18.7875   \n",
       "203       3           Corn, Mr. Harry    male  30.0      0      0   8.0500   \n",
       "\n",
       "    embarked  \n",
       "812        S  \n",
       "134        Q  \n",
       "390        S  \n",
       "305        C  \n",
       "203        S  "
      ]
     },
     "execution_count": 238,
     "metadata": {},
     "output_type": "execute_result"
    }
   ],
   "source": [
    "random_sampling = (train['age'].dropna().sample(train['age'].isnull().sum()))\n",
    "random_sampling.index = train[lambda x : x['age'].isnull()].index\n",
    "train.loc[train['age'].isnull(), 'age'] = random_sampling\n",
    "train.head()"
   ]
  },
  {
   "cell_type": "code",
   "execution_count": 239,
   "metadata": {},
   "outputs": [
    {
     "data": {
      "text/plain": [
       "pclass      0\n",
       "name        0\n",
       "gender      0\n",
       "age         0\n",
       "sibsp       0\n",
       "parch       0\n",
       "fare        0\n",
       "embarked    0\n",
       "dtype: int64"
      ]
     },
     "execution_count": 239,
     "metadata": {},
     "output_type": "execute_result"
    }
   ],
   "source": [
    "train.isnull().sum()"
   ]
  },
  {
   "cell_type": "code",
   "execution_count": 240,
   "metadata": {},
   "outputs": [
    {
     "data": {
      "text/plain": [
       "pclass      0\n",
       "name        0\n",
       "gender      0\n",
       "age         0\n",
       "sibsp       0\n",
       "parch       0\n",
       "fare        0\n",
       "embarked    1\n",
       "dtype: int64"
      ]
     },
     "execution_count": 240,
     "metadata": {},
     "output_type": "execute_result"
    }
   ],
   "source": [
    "random_sampling = (train['age'].dropna().sample(test['age'].isnull().sum()))\n",
    "random_sampling.index = test[lambda x : x['age'].isnull()].index\n",
    "test.loc[test['age'].isnull(), 'age'] = random_sampling\n",
    "test.isnull().sum()"
   ]
  },
  {
   "cell_type": "code",
   "execution_count": 241,
   "metadata": {},
   "outputs": [
    {
     "data": {
      "text/plain": [
       "pclass      0\n",
       "name        0\n",
       "gender      0\n",
       "age         0\n",
       "sibsp       0\n",
       "parch       0\n",
       "fare        1\n",
       "embarked    1\n",
       "dtype: int64"
      ]
     },
     "execution_count": 241,
     "metadata": {},
     "output_type": "execute_result"
    }
   ],
   "source": [
    "random_sampling = (train['age'].dropna().sample(ori_te['age'].isnull().sum()))\n",
    "random_sampling.index = ori_te[lambda x : x['age'].isnull()].index\n",
    "ori_te.loc[ori_te['age'].isnull(), 'age'] = random_sampling\n",
    "ori_te.isnull().sum()"
   ]
  },
  {
   "attachments": {},
   "cell_type": "markdown",
   "metadata": {},
   "source": [
    "#### embarked\n",
    "- 최빈값으로 replace한다."
   ]
  },
  {
   "cell_type": "code",
   "execution_count": 242,
   "metadata": {},
   "outputs": [
    {
     "data": {
      "text/plain": [
       "'S'"
      ]
     },
     "execution_count": 242,
     "metadata": {},
     "output_type": "execute_result"
    }
   ],
   "source": [
    "embarked_mode = train['embarked'].mode().values[0]\n",
    "embarked_mode"
   ]
  },
  {
   "cell_type": "code",
   "execution_count": 243,
   "metadata": {},
   "outputs": [
    {
     "data": {
      "text/plain": [
       "pclass      0\n",
       "name        0\n",
       "gender      0\n",
       "age         0\n",
       "sibsp       0\n",
       "parch       0\n",
       "fare        0\n",
       "embarked    0\n",
       "dtype: int64"
      ]
     },
     "execution_count": 243,
     "metadata": {},
     "output_type": "execute_result"
    }
   ],
   "source": [
    "test['embarked'].fillna(embarked_mode, inplace=True)\n",
    "ori_te['embarked'].fillna(embarked_mode, inplace=True)\n",
    "\n",
    "test.isnull().sum()"
   ]
  },
  {
   "cell_type": "code",
   "execution_count": 244,
   "metadata": {},
   "outputs": [
    {
     "data": {
      "text/plain": [
       "pclass      0\n",
       "name        0\n",
       "gender      0\n",
       "age         0\n",
       "sibsp       0\n",
       "parch       0\n",
       "fare        1\n",
       "embarked    0\n",
       "dtype: int64"
      ]
     },
     "execution_count": 244,
     "metadata": {},
     "output_type": "execute_result"
    }
   ],
   "source": [
    "ori_te.isnull().sum()"
   ]
  },
  {
   "attachments": {},
   "cell_type": "markdown",
   "metadata": {},
   "source": [
    "#### fare\n",
    "- median 값으로 채워준다."
   ]
  },
  {
   "cell_type": "code",
   "execution_count": 245,
   "metadata": {},
   "outputs": [
    {
     "data": {
      "text/plain": [
       "14.4"
      ]
     },
     "execution_count": 245,
     "metadata": {},
     "output_type": "execute_result"
    }
   ],
   "source": [
    "median_fare = train['fare'].median()\n",
    "median_fare"
   ]
  },
  {
   "cell_type": "code",
   "execution_count": 246,
   "metadata": {},
   "outputs": [],
   "source": [
    "ori_te['fare'].fillna(median_fare, inplace=True)"
   ]
  },
  {
   "cell_type": "code",
   "execution_count": 247,
   "metadata": {},
   "outputs": [
    {
     "data": {
      "text/plain": [
       "pclass      0\n",
       "name        0\n",
       "gender      0\n",
       "age         0\n",
       "sibsp       0\n",
       "parch       0\n",
       "fare        0\n",
       "embarked    0\n",
       "dtype: int64"
      ]
     },
     "execution_count": 247,
     "metadata": {},
     "output_type": "execute_result"
    }
   ],
   "source": [
    "ori_te.isnull().sum()"
   ]
  },
  {
   "attachments": {},
   "cell_type": "markdown",
   "metadata": {},
   "source": [
    "## Feature Extraction"
   ]
  },
  {
   "cell_type": "code",
   "execution_count": 248,
   "metadata": {},
   "outputs": [
    {
     "name": "stdout",
     "output_type": "stream",
     "text": [
      "<class 'pandas.core.frame.DataFrame'>\n",
      "Int64Index: 641 entries, 812 to 277\n",
      "Data columns (total 8 columns):\n",
      " #   Column    Non-Null Count  Dtype  \n",
      "---  ------    --------------  -----  \n",
      " 0   pclass    641 non-null    int64  \n",
      " 1   name      641 non-null    object \n",
      " 2   gender    641 non-null    object \n",
      " 3   age       641 non-null    float64\n",
      " 4   sibsp     641 non-null    int64  \n",
      " 5   parch     641 non-null    int64  \n",
      " 6   fare      641 non-null    float64\n",
      " 7   embarked  641 non-null    object \n",
      "dtypes: float64(2), int64(3), object(3)\n",
      "memory usage: 45.1+ KB\n"
     ]
    }
   ],
   "source": [
    "train.info()"
   ]
  },
  {
   "attachments": {},
   "cell_type": "markdown",
   "metadata": {},
   "source": [
    "### 성별을 범주형으로 변환\n",
    "- 종류가 2개뿐이라서, map 이용 \n",
    "- 범주형 변환하지 않고 인코딩 하는 방법도 고려해보아야 함"
   ]
  },
  {
   "cell_type": "code",
   "execution_count": 249,
   "metadata": {},
   "outputs": [
    {
     "data": {
      "text/html": [
       "<div>\n",
       "<style scoped>\n",
       "    .dataframe tbody tr th:only-of-type {\n",
       "        vertical-align: middle;\n",
       "    }\n",
       "\n",
       "    .dataframe tbody tr th {\n",
       "        vertical-align: top;\n",
       "    }\n",
       "\n",
       "    .dataframe thead th {\n",
       "        text-align: right;\n",
       "    }\n",
       "</style>\n",
       "<table border=\"1\" class=\"dataframe\">\n",
       "  <thead>\n",
       "    <tr style=\"text-align: right;\">\n",
       "      <th></th>\n",
       "      <th>pclass</th>\n",
       "      <th>name</th>\n",
       "      <th>gender</th>\n",
       "      <th>age</th>\n",
       "      <th>sibsp</th>\n",
       "      <th>parch</th>\n",
       "      <th>fare</th>\n",
       "      <th>embarked</th>\n",
       "    </tr>\n",
       "  </thead>\n",
       "  <tbody>\n",
       "    <tr>\n",
       "      <th>812</th>\n",
       "      <td>3</td>\n",
       "      <td>Ohman, Miss. Velin</td>\n",
       "      <td>1</td>\n",
       "      <td>22.0</td>\n",
       "      <td>0</td>\n",
       "      <td>0</td>\n",
       "      <td>7.7750</td>\n",
       "      <td>S</td>\n",
       "    </tr>\n",
       "    <tr>\n",
       "      <th>134</th>\n",
       "      <td>3</td>\n",
       "      <td>Buckley, Mr. Daniel</td>\n",
       "      <td>0</td>\n",
       "      <td>21.0</td>\n",
       "      <td>0</td>\n",
       "      <td>0</td>\n",
       "      <td>7.8208</td>\n",
       "      <td>Q</td>\n",
       "    </tr>\n",
       "    <tr>\n",
       "      <th>390</th>\n",
       "      <td>3</td>\n",
       "      <td>Jonsson, Mr. Carl</td>\n",
       "      <td>0</td>\n",
       "      <td>32.0</td>\n",
       "      <td>0</td>\n",
       "      <td>0</td>\n",
       "      <td>7.8542</td>\n",
       "      <td>S</td>\n",
       "    </tr>\n",
       "    <tr>\n",
       "      <th>305</th>\n",
       "      <td>3</td>\n",
       "      <td>Hassan, Mr. Houssein G N</td>\n",
       "      <td>0</td>\n",
       "      <td>11.0</td>\n",
       "      <td>0</td>\n",
       "      <td>0</td>\n",
       "      <td>18.7875</td>\n",
       "      <td>C</td>\n",
       "    </tr>\n",
       "    <tr>\n",
       "      <th>203</th>\n",
       "      <td>3</td>\n",
       "      <td>Corn, Mr. Harry</td>\n",
       "      <td>0</td>\n",
       "      <td>30.0</td>\n",
       "      <td>0</td>\n",
       "      <td>0</td>\n",
       "      <td>8.0500</td>\n",
       "      <td>S</td>\n",
       "    </tr>\n",
       "  </tbody>\n",
       "</table>\n",
       "</div>"
      ],
      "text/plain": [
       "     pclass                      name  gender   age  sibsp  parch     fare  \\\n",
       "812       3        Ohman, Miss. Velin       1  22.0      0      0   7.7750   \n",
       "134       3       Buckley, Mr. Daniel       0  21.0      0      0   7.8208   \n",
       "390       3         Jonsson, Mr. Carl       0  32.0      0      0   7.8542   \n",
       "305       3  Hassan, Mr. Houssein G N       0  11.0      0      0  18.7875   \n",
       "203       3           Corn, Mr. Harry       0  30.0      0      0   8.0500   \n",
       "\n",
       "    embarked  \n",
       "812        S  \n",
       "134        Q  \n",
       "390        S  \n",
       "305        C  \n",
       "203        S  "
      ]
     },
     "execution_count": 249,
     "metadata": {},
     "output_type": "execute_result"
    }
   ],
   "source": [
    "train['gender'] = train['gender'].map({'female' : 1, 'male' : 0 }).astype(int)\n",
    "test['gender'] = test['gender'].map({'female' : 1, 'male' : 0 }).astype(int)\n",
    "ori_te['gender'] = ori_te['gender'].map({'female' : 1, 'male' : 0 }).astype(int)\n",
    "train.head()"
   ]
  },
  {
   "cell_type": "code",
   "execution_count": 250,
   "metadata": {},
   "outputs": [
    {
     "name": "stdout",
     "output_type": "stream",
     "text": [
      "<class 'pandas.core.frame.DataFrame'>\n",
      "Int64Index: 641 entries, 812 to 277\n",
      "Data columns (total 8 columns):\n",
      " #   Column    Non-Null Count  Dtype  \n",
      "---  ------    --------------  -----  \n",
      " 0   pclass    641 non-null    int64  \n",
      " 1   name      641 non-null    object \n",
      " 2   gender    641 non-null    int32  \n",
      " 3   age       641 non-null    float64\n",
      " 4   sibsp     641 non-null    int64  \n",
      " 5   parch     641 non-null    int64  \n",
      " 6   fare      641 non-null    float64\n",
      " 7   embarked  641 non-null    object \n",
      "dtypes: float64(2), int32(1), int64(3), object(2)\n",
      "memory usage: 42.6+ KB\n"
     ]
    }
   ],
   "source": [
    "train.info()"
   ]
  },
  {
   "attachments": {},
   "cell_type": "markdown",
   "metadata": {},
   "source": [
    "### add designation\n",
    "- designation을 추가하고 획일화 해준다. "
   ]
  },
  {
   "cell_type": "code",
   "execution_count": 251,
   "metadata": {},
   "outputs": [
    {
     "data": {
      "text/html": [
       "<div>\n",
       "<style scoped>\n",
       "    .dataframe tbody tr th:only-of-type {\n",
       "        vertical-align: middle;\n",
       "    }\n",
       "\n",
       "    .dataframe tbody tr th {\n",
       "        vertical-align: top;\n",
       "    }\n",
       "\n",
       "    .dataframe thead th {\n",
       "        text-align: right;\n",
       "    }\n",
       "</style>\n",
       "<table border=\"1\" class=\"dataframe\">\n",
       "  <thead>\n",
       "    <tr style=\"text-align: right;\">\n",
       "      <th></th>\n",
       "      <th>pclass</th>\n",
       "      <th>name</th>\n",
       "      <th>gender</th>\n",
       "      <th>age</th>\n",
       "      <th>sibsp</th>\n",
       "      <th>parch</th>\n",
       "      <th>fare</th>\n",
       "      <th>embarked</th>\n",
       "      <th>designation</th>\n",
       "    </tr>\n",
       "  </thead>\n",
       "  <tbody>\n",
       "    <tr>\n",
       "      <th>812</th>\n",
       "      <td>3</td>\n",
       "      <td>Ohman, Miss. Velin</td>\n",
       "      <td>1</td>\n",
       "      <td>22.0</td>\n",
       "      <td>0</td>\n",
       "      <td>0</td>\n",
       "      <td>7.7750</td>\n",
       "      <td>S</td>\n",
       "      <td>Miss</td>\n",
       "    </tr>\n",
       "    <tr>\n",
       "      <th>134</th>\n",
       "      <td>3</td>\n",
       "      <td>Buckley, Mr. Daniel</td>\n",
       "      <td>0</td>\n",
       "      <td>21.0</td>\n",
       "      <td>0</td>\n",
       "      <td>0</td>\n",
       "      <td>7.8208</td>\n",
       "      <td>Q</td>\n",
       "      <td>Mr</td>\n",
       "    </tr>\n",
       "    <tr>\n",
       "      <th>390</th>\n",
       "      <td>3</td>\n",
       "      <td>Jonsson, Mr. Carl</td>\n",
       "      <td>0</td>\n",
       "      <td>32.0</td>\n",
       "      <td>0</td>\n",
       "      <td>0</td>\n",
       "      <td>7.8542</td>\n",
       "      <td>S</td>\n",
       "      <td>Mr</td>\n",
       "    </tr>\n",
       "    <tr>\n",
       "      <th>305</th>\n",
       "      <td>3</td>\n",
       "      <td>Hassan, Mr. Houssein G N</td>\n",
       "      <td>0</td>\n",
       "      <td>11.0</td>\n",
       "      <td>0</td>\n",
       "      <td>0</td>\n",
       "      <td>18.7875</td>\n",
       "      <td>C</td>\n",
       "      <td>Mr</td>\n",
       "    </tr>\n",
       "    <tr>\n",
       "      <th>203</th>\n",
       "      <td>3</td>\n",
       "      <td>Corn, Mr. Harry</td>\n",
       "      <td>0</td>\n",
       "      <td>30.0</td>\n",
       "      <td>0</td>\n",
       "      <td>0</td>\n",
       "      <td>8.0500</td>\n",
       "      <td>S</td>\n",
       "      <td>Mr</td>\n",
       "    </tr>\n",
       "  </tbody>\n",
       "</table>\n",
       "</div>"
      ],
      "text/plain": [
       "     pclass                      name  gender   age  sibsp  parch     fare  \\\n",
       "812       3        Ohman, Miss. Velin       1  22.0      0      0   7.7750   \n",
       "134       3       Buckley, Mr. Daniel       0  21.0      0      0   7.8208   \n",
       "390       3         Jonsson, Mr. Carl       0  32.0      0      0   7.8542   \n",
       "305       3  Hassan, Mr. Houssein G N       0  11.0      0      0  18.7875   \n",
       "203       3           Corn, Mr. Harry       0  30.0      0      0   8.0500   \n",
       "\n",
       "    embarked designation  \n",
       "812        S        Miss  \n",
       "134        Q          Mr  \n",
       "390        S          Mr  \n",
       "305        C          Mr  \n",
       "203        S          Mr  "
      ]
     },
     "execution_count": 251,
     "metadata": {},
     "output_type": "execute_result"
    }
   ],
   "source": [
    "dict_designation = {\n",
    "    #성별 \n",
    "    'Mr': '남성',\n",
    "    'Master': '남성',\n",
    "    'Sir': '남성',\n",
    "    'Miss': '미혼 여성',\n",
    "    'Mrs': '기혼 여성',\n",
    "    'Ms': '미혼/기혼 여성',\n",
    "    'Lady': '숙녀',\n",
    "    'Mlle': '아가씨',\n",
    "    # 직업\n",
    "    'Dr': '의사',\n",
    "    'Rev': '목사',\n",
    "    'Major': '계급',\n",
    "    'Don': '교수',\n",
    "    'Col': '군인',\n",
    "    'Capt': '군인',\n",
    "    # 귀족\n",
    "    'Mme': '영부인',\n",
    "    'Countess': '백작부인',\n",
    "    'Jonkheer': '귀족'\n",
    "}\n",
    "\n",
    "\n",
    "def add_designation(name) :\n",
    "    designation = 'unknown'\n",
    "    for key in dict_designation.keys() :\n",
    "        if key in name :\n",
    "            designation = key\n",
    "            break\n",
    "    return designation\n",
    "\n",
    "train['designation'] = train['name'].map(lambda x : add_designation(x))\n",
    "test['designation'] = test['name'].map(lambda x : add_designation(x))\n",
    "ori_te['designation'] = ori_te['name'].map(lambda x : add_designation(x))\n",
    "\n",
    "train.head()"
   ]
  },
  {
   "cell_type": "code",
   "execution_count": 252,
   "metadata": {},
   "outputs": [
    {
     "data": {
      "text/html": [
       "<div>\n",
       "<style scoped>\n",
       "    .dataframe tbody tr th:only-of-type {\n",
       "        vertical-align: middle;\n",
       "    }\n",
       "\n",
       "    .dataframe tbody tr th {\n",
       "        vertical-align: top;\n",
       "    }\n",
       "\n",
       "    .dataframe thead th {\n",
       "        text-align: right;\n",
       "    }\n",
       "</style>\n",
       "<table border=\"1\" class=\"dataframe\">\n",
       "  <thead>\n",
       "    <tr style=\"text-align: right;\">\n",
       "      <th></th>\n",
       "      <th>pclass</th>\n",
       "      <th>name</th>\n",
       "      <th>gender</th>\n",
       "      <th>age</th>\n",
       "      <th>sibsp</th>\n",
       "      <th>parch</th>\n",
       "      <th>fare</th>\n",
       "      <th>embarked</th>\n",
       "      <th>designation</th>\n",
       "    </tr>\n",
       "  </thead>\n",
       "  <tbody>\n",
       "    <tr>\n",
       "      <th>812</th>\n",
       "      <td>3</td>\n",
       "      <td>Ohman, Miss. Velin</td>\n",
       "      <td>1</td>\n",
       "      <td>22.0</td>\n",
       "      <td>0</td>\n",
       "      <td>0</td>\n",
       "      <td>7.7750</td>\n",
       "      <td>S</td>\n",
       "      <td>Miss</td>\n",
       "    </tr>\n",
       "    <tr>\n",
       "      <th>134</th>\n",
       "      <td>3</td>\n",
       "      <td>Buckley, Mr. Daniel</td>\n",
       "      <td>0</td>\n",
       "      <td>21.0</td>\n",
       "      <td>0</td>\n",
       "      <td>0</td>\n",
       "      <td>7.8208</td>\n",
       "      <td>Q</td>\n",
       "      <td>Mr</td>\n",
       "    </tr>\n",
       "    <tr>\n",
       "      <th>390</th>\n",
       "      <td>3</td>\n",
       "      <td>Jonsson, Mr. Carl</td>\n",
       "      <td>0</td>\n",
       "      <td>32.0</td>\n",
       "      <td>0</td>\n",
       "      <td>0</td>\n",
       "      <td>7.8542</td>\n",
       "      <td>S</td>\n",
       "      <td>Mr</td>\n",
       "    </tr>\n",
       "    <tr>\n",
       "      <th>305</th>\n",
       "      <td>3</td>\n",
       "      <td>Hassan, Mr. Houssein G N</td>\n",
       "      <td>0</td>\n",
       "      <td>11.0</td>\n",
       "      <td>0</td>\n",
       "      <td>0</td>\n",
       "      <td>18.7875</td>\n",
       "      <td>C</td>\n",
       "      <td>Mr</td>\n",
       "    </tr>\n",
       "    <tr>\n",
       "      <th>203</th>\n",
       "      <td>3</td>\n",
       "      <td>Corn, Mr. Harry</td>\n",
       "      <td>0</td>\n",
       "      <td>30.0</td>\n",
       "      <td>0</td>\n",
       "      <td>0</td>\n",
       "      <td>8.0500</td>\n",
       "      <td>S</td>\n",
       "      <td>Mr</td>\n",
       "    </tr>\n",
       "  </tbody>\n",
       "</table>\n",
       "</div>"
      ],
      "text/plain": [
       "     pclass                      name  gender   age  sibsp  parch     fare  \\\n",
       "812       3        Ohman, Miss. Velin       1  22.0      0      0   7.7750   \n",
       "134       3       Buckley, Mr. Daniel       0  21.0      0      0   7.8208   \n",
       "390       3         Jonsson, Mr. Carl       0  32.0      0      0   7.8542   \n",
       "305       3  Hassan, Mr. Houssein G N       0  11.0      0      0  18.7875   \n",
       "203       3           Corn, Mr. Harry       0  30.0      0      0   8.0500   \n",
       "\n",
       "    embarked designation  \n",
       "812        S        Miss  \n",
       "134        Q          Mr  \n",
       "390        S          Mr  \n",
       "305        C          Mr  \n",
       "203        S          Mr  "
      ]
     },
     "execution_count": 252,
     "metadata": {},
     "output_type": "execute_result"
    }
   ],
   "source": [
    "# 반복문 사용할 수 있을듯... 나중에 해보기 \n",
    "train['designation'] = train['designation'].replace(['Lady','Countess','Capt','Col','Don','Dr','Jonkheer','Major','Rev', 'Sir', 'Dona'], 'Rare')\n",
    "train['designation'] = train['designation'].replace('Mlle','Miss')\n",
    "train['designation'] = train['designation'].replace('Ms','Miss')\n",
    "train['designation'] = train['designation'].replace('Mme','Mrs')\n",
    "\n",
    "test['designation'] = test['designation'].replace(['Lady','Countess','Capt','Col','Don','Dr','Jonkheer','Major','Rev', 'Sir', 'Dona'], 'Rare')\n",
    "test['designation'] = test['designation'].replace('Mlle','Miss')\n",
    "test['designation'] = test['designation'].replace('Ms','Miss')\n",
    "test['designation'] = test['designation'].replace('Mme','Mrs')\n",
    "\n",
    "ori_te['designation'] = ori_te['designation'].replace(['Lady','Countess','Capt','Col','Don','Dr','Jonkheer','Major','Rev', 'Sir', 'Dona'], 'Rare')\n",
    "ori_te['designation'] = ori_te['designation'].replace('Mlle','Miss')\n",
    "ori_te['designation'] = ori_te['designation'].replace('Ms','Miss')\n",
    "ori_te['designation'] = ori_te['designation'].replace('Mme','Mrs')\n",
    "\n",
    "train.head()"
   ]
  },
  {
   "attachments": {},
   "cell_type": "markdown",
   "metadata": {},
   "source": [
    "### add job\n",
    "- 직업이 생존률과 관련이 있을 수 있으므로, 추가해준다. "
   ]
  },
  {
   "cell_type": "code",
   "execution_count": 253,
   "metadata": {},
   "outputs": [
    {
     "data": {
      "text/html": [
       "<div>\n",
       "<style scoped>\n",
       "    .dataframe tbody tr th:only-of-type {\n",
       "        vertical-align: middle;\n",
       "    }\n",
       "\n",
       "    .dataframe tbody tr th {\n",
       "        vertical-align: top;\n",
       "    }\n",
       "\n",
       "    .dataframe thead th {\n",
       "        text-align: right;\n",
       "    }\n",
       "</style>\n",
       "<table border=\"1\" class=\"dataframe\">\n",
       "  <thead>\n",
       "    <tr style=\"text-align: right;\">\n",
       "      <th></th>\n",
       "      <th>pclass</th>\n",
       "      <th>name</th>\n",
       "      <th>gender</th>\n",
       "      <th>age</th>\n",
       "      <th>sibsp</th>\n",
       "      <th>parch</th>\n",
       "      <th>fare</th>\n",
       "      <th>embarked</th>\n",
       "      <th>designation</th>\n",
       "      <th>job</th>\n",
       "    </tr>\n",
       "  </thead>\n",
       "  <tbody>\n",
       "    <tr>\n",
       "      <th>812</th>\n",
       "      <td>3</td>\n",
       "      <td>Ohman, Miss. Velin</td>\n",
       "      <td>1</td>\n",
       "      <td>22.0</td>\n",
       "      <td>0</td>\n",
       "      <td>0</td>\n",
       "      <td>7.7750</td>\n",
       "      <td>S</td>\n",
       "      <td>Miss</td>\n",
       "      <td>Others</td>\n",
       "    </tr>\n",
       "    <tr>\n",
       "      <th>134</th>\n",
       "      <td>3</td>\n",
       "      <td>Buckley, Mr. Daniel</td>\n",
       "      <td>0</td>\n",
       "      <td>21.0</td>\n",
       "      <td>0</td>\n",
       "      <td>0</td>\n",
       "      <td>7.8208</td>\n",
       "      <td>Q</td>\n",
       "      <td>Mr</td>\n",
       "      <td>Others</td>\n",
       "    </tr>\n",
       "    <tr>\n",
       "      <th>390</th>\n",
       "      <td>3</td>\n",
       "      <td>Jonsson, Mr. Carl</td>\n",
       "      <td>0</td>\n",
       "      <td>32.0</td>\n",
       "      <td>0</td>\n",
       "      <td>0</td>\n",
       "      <td>7.8542</td>\n",
       "      <td>S</td>\n",
       "      <td>Mr</td>\n",
       "      <td>Others</td>\n",
       "    </tr>\n",
       "    <tr>\n",
       "      <th>305</th>\n",
       "      <td>3</td>\n",
       "      <td>Hassan, Mr. Houssein G N</td>\n",
       "      <td>0</td>\n",
       "      <td>11.0</td>\n",
       "      <td>0</td>\n",
       "      <td>0</td>\n",
       "      <td>18.7875</td>\n",
       "      <td>C</td>\n",
       "      <td>Mr</td>\n",
       "      <td>Others</td>\n",
       "    </tr>\n",
       "    <tr>\n",
       "      <th>203</th>\n",
       "      <td>3</td>\n",
       "      <td>Corn, Mr. Harry</td>\n",
       "      <td>0</td>\n",
       "      <td>30.0</td>\n",
       "      <td>0</td>\n",
       "      <td>0</td>\n",
       "      <td>8.0500</td>\n",
       "      <td>S</td>\n",
       "      <td>Mr</td>\n",
       "      <td>Others</td>\n",
       "    </tr>\n",
       "  </tbody>\n",
       "</table>\n",
       "</div>"
      ],
      "text/plain": [
       "     pclass                      name  gender   age  sibsp  parch     fare  \\\n",
       "812       3        Ohman, Miss. Velin       1  22.0      0      0   7.7750   \n",
       "134       3       Buckley, Mr. Daniel       0  21.0      0      0   7.8208   \n",
       "390       3         Jonsson, Mr. Carl       0  32.0      0      0   7.8542   \n",
       "305       3  Hassan, Mr. Houssein G N       0  11.0      0      0  18.7875   \n",
       "203       3           Corn, Mr. Harry       0  30.0      0      0   8.0500   \n",
       "\n",
       "    embarked designation     job  \n",
       "812        S        Miss  Others  \n",
       "134        Q          Mr  Others  \n",
       "390        S          Mr  Others  \n",
       "305        C          Mr  Others  \n",
       "203        S          Mr  Others  "
      ]
     },
     "execution_count": 253,
     "metadata": {},
     "output_type": "execute_result"
    }
   ],
   "source": [
    "dict_job = {\n",
    "    'Mr': 'Others',\n",
    "    'Master': 'Others',\n",
    "    'Miss': 'Others',\n",
    "    'Mrs': 'Others',\n",
    "    'Ms': 'Others',\n",
    "    'Mlle': 'Others',\n",
    "    # 직업\n",
    "    'Dr': 'Officer',\n",
    "    'Rev': 'Officer',\n",
    "    'Major': 'Officer',\n",
    "    'Col': 'Officer',\n",
    "    'Capt': 'Officer',\n",
    "    # 귀족\n",
    "    'Don': 'Royalty',\n",
    "    'Sir': 'Royalty',\n",
    "    'Lady': 'Royalty',\n",
    "    'Mme': 'Royalty',\n",
    "    'Countess': 'Royalty',\n",
    "    'Jonkheer': 'Royalty'\n",
    "}\n",
    "\n",
    "def add_job(name) :\n",
    "    job = 'others'\n",
    "    for key in dict_job.keys() :\n",
    "        if key in name :\n",
    "            job = dict_job[key]\n",
    "            break\n",
    "    return job\n",
    "\n",
    "train['job'] = train['name'].map(lambda x : add_job(x))\n",
    "test['job'] = test['name'].map(lambda x : add_job(x))\n",
    "ori_te['job'] = ori_te['name'].map(lambda x : add_job(x))\n",
    "\n",
    "train.head()"
   ]
  },
  {
   "attachments": {},
   "cell_type": "markdown",
   "metadata": {},
   "source": [
    "### add sub_age\n",
    "- 그래프에서 특정 연령대의 생존률이 높은 것을 확인했으므로, sub_age를 생성해준다.\n",
    "- age_group을 만들어 보는 것도 좋은 방법 같아 보인다. 나중에 해보기"
   ]
  },
  {
   "cell_type": "code",
   "execution_count": 254,
   "metadata": {},
   "outputs": [
    {
     "data": {
      "text/html": [
       "<div>\n",
       "<style scoped>\n",
       "    .dataframe tbody tr th:only-of-type {\n",
       "        vertical-align: middle;\n",
       "    }\n",
       "\n",
       "    .dataframe tbody tr th {\n",
       "        vertical-align: top;\n",
       "    }\n",
       "\n",
       "    .dataframe thead th {\n",
       "        text-align: right;\n",
       "    }\n",
       "</style>\n",
       "<table border=\"1\" class=\"dataframe\">\n",
       "  <thead>\n",
       "    <tr style=\"text-align: right;\">\n",
       "      <th></th>\n",
       "      <th>pclass</th>\n",
       "      <th>name</th>\n",
       "      <th>gender</th>\n",
       "      <th>age</th>\n",
       "      <th>sibsp</th>\n",
       "      <th>parch</th>\n",
       "      <th>fare</th>\n",
       "      <th>embarked</th>\n",
       "      <th>designation</th>\n",
       "      <th>job</th>\n",
       "      <th>sub_age</th>\n",
       "    </tr>\n",
       "  </thead>\n",
       "  <tbody>\n",
       "    <tr>\n",
       "      <th>812</th>\n",
       "      <td>3</td>\n",
       "      <td>Ohman, Miss. Velin</td>\n",
       "      <td>1</td>\n",
       "      <td>22.0</td>\n",
       "      <td>0</td>\n",
       "      <td>0</td>\n",
       "      <td>7.7750</td>\n",
       "      <td>S</td>\n",
       "      <td>Miss</td>\n",
       "      <td>Others</td>\n",
       "      <td>2.0</td>\n",
       "    </tr>\n",
       "    <tr>\n",
       "      <th>134</th>\n",
       "      <td>3</td>\n",
       "      <td>Buckley, Mr. Daniel</td>\n",
       "      <td>0</td>\n",
       "      <td>21.0</td>\n",
       "      <td>0</td>\n",
       "      <td>0</td>\n",
       "      <td>7.8208</td>\n",
       "      <td>Q</td>\n",
       "      <td>Mr</td>\n",
       "      <td>Others</td>\n",
       "      <td>2.0</td>\n",
       "    </tr>\n",
       "    <tr>\n",
       "      <th>390</th>\n",
       "      <td>3</td>\n",
       "      <td>Jonsson, Mr. Carl</td>\n",
       "      <td>0</td>\n",
       "      <td>32.0</td>\n",
       "      <td>0</td>\n",
       "      <td>0</td>\n",
       "      <td>7.8542</td>\n",
       "      <td>S</td>\n",
       "      <td>Mr</td>\n",
       "      <td>Others</td>\n",
       "      <td>3.0</td>\n",
       "    </tr>\n",
       "    <tr>\n",
       "      <th>305</th>\n",
       "      <td>3</td>\n",
       "      <td>Hassan, Mr. Houssein G N</td>\n",
       "      <td>0</td>\n",
       "      <td>11.0</td>\n",
       "      <td>0</td>\n",
       "      <td>0</td>\n",
       "      <td>18.7875</td>\n",
       "      <td>C</td>\n",
       "      <td>Mr</td>\n",
       "      <td>Others</td>\n",
       "      <td>1.0</td>\n",
       "    </tr>\n",
       "    <tr>\n",
       "      <th>203</th>\n",
       "      <td>3</td>\n",
       "      <td>Corn, Mr. Harry</td>\n",
       "      <td>0</td>\n",
       "      <td>30.0</td>\n",
       "      <td>0</td>\n",
       "      <td>0</td>\n",
       "      <td>8.0500</td>\n",
       "      <td>S</td>\n",
       "      <td>Mr</td>\n",
       "      <td>Others</td>\n",
       "      <td>3.0</td>\n",
       "    </tr>\n",
       "  </tbody>\n",
       "</table>\n",
       "</div>"
      ],
      "text/plain": [
       "     pclass                      name  gender   age  sibsp  parch     fare  \\\n",
       "812       3        Ohman, Miss. Velin       1  22.0      0      0   7.7750   \n",
       "134       3       Buckley, Mr. Daniel       0  21.0      0      0   7.8208   \n",
       "390       3         Jonsson, Mr. Carl       0  32.0      0      0   7.8542   \n",
       "305       3  Hassan, Mr. Houssein G N       0  11.0      0      0  18.7875   \n",
       "203       3           Corn, Mr. Harry       0  30.0      0      0   8.0500   \n",
       "\n",
       "    embarked designation     job  sub_age  \n",
       "812        S        Miss  Others      2.0  \n",
       "134        Q          Mr  Others      2.0  \n",
       "390        S          Mr  Others      3.0  \n",
       "305        C          Mr  Others      1.0  \n",
       "203        S          Mr  Others      3.0  "
      ]
     },
     "execution_count": 254,
     "metadata": {},
     "output_type": "execute_result"
    }
   ],
   "source": [
    "train['sub_age'] = train['age'] // 10\n",
    "test['sub_age'] = test['age'] // 10\n",
    "ori_te['sub_age'] = ori_te['age'] // 10\n",
    "\n",
    "train.head()"
   ]
  },
  {
   "attachments": {},
   "cell_type": "markdown",
   "metadata": {},
   "source": [
    "### Scaling\n",
    "- fare과 age를 StandardScaler로 스케일링 해준다.\n",
    "- 다른 Sclaer를 이용하면 어떻게 변화할지 더 알아보면 좋을 것 같다."
   ]
  },
  {
   "cell_type": "code",
   "execution_count": 255,
   "metadata": {},
   "outputs": [
    {
     "data": {
      "text/plain": [
       "(4.729119155987176, 31.95993231511127)"
      ]
     },
     "execution_count": 255,
     "metadata": {},
     "output_type": "execute_result"
    }
   ],
   "source": [
    "train['fare'].skew(), train['fare'].kurt()"
   ]
  },
  {
   "cell_type": "code",
   "execution_count": 256,
   "metadata": {},
   "outputs": [
    {
     "data": {
      "text/plain": [
       "(0.5500242283096484, 0.4164426244822801)"
      ]
     },
     "execution_count": 256,
     "metadata": {},
     "output_type": "execute_result"
    }
   ],
   "source": [
    "train['age'].skew(), train['age'].kurt()"
   ]
  },
  {
   "cell_type": "code",
   "execution_count": 257,
   "metadata": {},
   "outputs": [],
   "source": [
    "from sklearn.preprocessing import StandardScaler"
   ]
  },
  {
   "cell_type": "code",
   "execution_count": 258,
   "metadata": {},
   "outputs": [],
   "source": [
    "scale = StandardScaler().fit(train[['age','fare']])\n",
    "train[['age','fare']] = scale.transform(train[['age','fare']])\n",
    "test[['age','fare']] = scale.transform(test[['age','fare']])\n",
    "ori_te[['age','fare']] = scale.transform(ori_te[['age','fare']])"
   ]
  },
  {
   "cell_type": "code",
   "execution_count": 259,
   "metadata": {},
   "outputs": [
    {
     "data": {
      "text/plain": [
       "pclass         0\n",
       "name           0\n",
       "gender         0\n",
       "age            0\n",
       "sibsp          0\n",
       "parch          0\n",
       "fare           0\n",
       "embarked       0\n",
       "designation    0\n",
       "job            0\n",
       "sub_age        0\n",
       "dtype: int64"
      ]
     },
     "execution_count": 259,
     "metadata": {},
     "output_type": "execute_result"
    }
   ],
   "source": [
    "train.isnull().sum()"
   ]
  },
  {
   "attachments": {},
   "cell_type": "markdown",
   "metadata": {},
   "source": [
    "### add gender * pclass\n",
    "- pclass와 gender는 모두 생존에 중요한 요소였으므로, 이를 합한 feature를 생성해준다."
   ]
  },
  {
   "cell_type": "code",
   "execution_count": 260,
   "metadata": {},
   "outputs": [
    {
     "data": {
      "text/html": [
       "<div>\n",
       "<style scoped>\n",
       "    .dataframe tbody tr th:only-of-type {\n",
       "        vertical-align: middle;\n",
       "    }\n",
       "\n",
       "    .dataframe tbody tr th {\n",
       "        vertical-align: top;\n",
       "    }\n",
       "\n",
       "    .dataframe thead th {\n",
       "        text-align: right;\n",
       "    }\n",
       "</style>\n",
       "<table border=\"1\" class=\"dataframe\">\n",
       "  <thead>\n",
       "    <tr style=\"text-align: right;\">\n",
       "      <th></th>\n",
       "      <th>pclass</th>\n",
       "      <th>name</th>\n",
       "      <th>gender</th>\n",
       "      <th>age</th>\n",
       "      <th>sibsp</th>\n",
       "      <th>parch</th>\n",
       "      <th>fare</th>\n",
       "      <th>embarked</th>\n",
       "      <th>designation</th>\n",
       "      <th>job</th>\n",
       "      <th>sub_age</th>\n",
       "      <th>gender*pclass</th>\n",
       "    </tr>\n",
       "  </thead>\n",
       "  <tbody>\n",
       "    <tr>\n",
       "      <th>812</th>\n",
       "      <td>3</td>\n",
       "      <td>Ohman, Miss. Velin</td>\n",
       "      <td>1</td>\n",
       "      <td>-0.616796</td>\n",
       "      <td>0</td>\n",
       "      <td>0</td>\n",
       "      <td>-0.479616</td>\n",
       "      <td>S</td>\n",
       "      <td>Miss</td>\n",
       "      <td>Others</td>\n",
       "      <td>2.0</td>\n",
       "      <td>3</td>\n",
       "    </tr>\n",
       "    <tr>\n",
       "      <th>134</th>\n",
       "      <td>3</td>\n",
       "      <td>Buckley, Mr. Daniel</td>\n",
       "      <td>0</td>\n",
       "      <td>-0.686315</td>\n",
       "      <td>0</td>\n",
       "      <td>0</td>\n",
       "      <td>-0.478696</td>\n",
       "      <td>Q</td>\n",
       "      <td>Mr</td>\n",
       "      <td>Others</td>\n",
       "      <td>2.0</td>\n",
       "      <td>0</td>\n",
       "    </tr>\n",
       "    <tr>\n",
       "      <th>390</th>\n",
       "      <td>3</td>\n",
       "      <td>Jonsson, Mr. Carl</td>\n",
       "      <td>0</td>\n",
       "      <td>0.078394</td>\n",
       "      <td>0</td>\n",
       "      <td>0</td>\n",
       "      <td>-0.478025</td>\n",
       "      <td>S</td>\n",
       "      <td>Mr</td>\n",
       "      <td>Others</td>\n",
       "      <td>3.0</td>\n",
       "      <td>0</td>\n",
       "    </tr>\n",
       "    <tr>\n",
       "      <th>305</th>\n",
       "      <td>3</td>\n",
       "      <td>Hassan, Mr. Houssein G N</td>\n",
       "      <td>0</td>\n",
       "      <td>-1.381505</td>\n",
       "      <td>0</td>\n",
       "      <td>0</td>\n",
       "      <td>-0.258431</td>\n",
       "      <td>C</td>\n",
       "      <td>Mr</td>\n",
       "      <td>Others</td>\n",
       "      <td>1.0</td>\n",
       "      <td>0</td>\n",
       "    </tr>\n",
       "    <tr>\n",
       "      <th>203</th>\n",
       "      <td>3</td>\n",
       "      <td>Corn, Mr. Harry</td>\n",
       "      <td>0</td>\n",
       "      <td>-0.060644</td>\n",
       "      <td>0</td>\n",
       "      <td>0</td>\n",
       "      <td>-0.474092</td>\n",
       "      <td>S</td>\n",
       "      <td>Mr</td>\n",
       "      <td>Others</td>\n",
       "      <td>3.0</td>\n",
       "      <td>0</td>\n",
       "    </tr>\n",
       "  </tbody>\n",
       "</table>\n",
       "</div>"
      ],
      "text/plain": [
       "     pclass                      name  gender       age  sibsp  parch  \\\n",
       "812       3        Ohman, Miss. Velin       1 -0.616796      0      0   \n",
       "134       3       Buckley, Mr. Daniel       0 -0.686315      0      0   \n",
       "390       3         Jonsson, Mr. Carl       0  0.078394      0      0   \n",
       "305       3  Hassan, Mr. Houssein G N       0 -1.381505      0      0   \n",
       "203       3           Corn, Mr. Harry       0 -0.060644      0      0   \n",
       "\n",
       "         fare embarked designation     job  sub_age  gender*pclass  \n",
       "812 -0.479616        S        Miss  Others      2.0              3  \n",
       "134 -0.478696        Q          Mr  Others      2.0              0  \n",
       "390 -0.478025        S          Mr  Others      3.0              0  \n",
       "305 -0.258431        C          Mr  Others      1.0              0  \n",
       "203 -0.474092        S          Mr  Others      3.0              0  "
      ]
     },
     "execution_count": 260,
     "metadata": {},
     "output_type": "execute_result"
    }
   ],
   "source": [
    "train['gender*pclass'] = train['gender'] * train['pclass']\n",
    "test['gender*pclass'] = test['gender'] * test['pclass']\n",
    "ori_te['gender*pclass'] = ori_te['gender'] * ori_te['pclass']\n",
    "train.head()"
   ]
  },
  {
   "attachments": {},
   "cell_type": "markdown",
   "metadata": {},
   "source": [
    "### add gender * fare"
   ]
  },
  {
   "cell_type": "code",
   "execution_count": 261,
   "metadata": {},
   "outputs": [
    {
     "data": {
      "text/html": [
       "<div>\n",
       "<style scoped>\n",
       "    .dataframe tbody tr th:only-of-type {\n",
       "        vertical-align: middle;\n",
       "    }\n",
       "\n",
       "    .dataframe tbody tr th {\n",
       "        vertical-align: top;\n",
       "    }\n",
       "\n",
       "    .dataframe thead th {\n",
       "        text-align: right;\n",
       "    }\n",
       "</style>\n",
       "<table border=\"1\" class=\"dataframe\">\n",
       "  <thead>\n",
       "    <tr style=\"text-align: right;\">\n",
       "      <th></th>\n",
       "      <th>pclass</th>\n",
       "      <th>name</th>\n",
       "      <th>gender</th>\n",
       "      <th>age</th>\n",
       "      <th>sibsp</th>\n",
       "      <th>parch</th>\n",
       "      <th>fare</th>\n",
       "      <th>embarked</th>\n",
       "      <th>designation</th>\n",
       "      <th>job</th>\n",
       "      <th>sub_age</th>\n",
       "      <th>gender*pclass</th>\n",
       "      <th>gender*fare</th>\n",
       "    </tr>\n",
       "  </thead>\n",
       "  <tbody>\n",
       "    <tr>\n",
       "      <th>812</th>\n",
       "      <td>3</td>\n",
       "      <td>Ohman, Miss. Velin</td>\n",
       "      <td>1</td>\n",
       "      <td>-0.616796</td>\n",
       "      <td>0</td>\n",
       "      <td>0</td>\n",
       "      <td>-0.479616</td>\n",
       "      <td>S</td>\n",
       "      <td>Miss</td>\n",
       "      <td>Others</td>\n",
       "      <td>2.0</td>\n",
       "      <td>3</td>\n",
       "      <td>-0.479616</td>\n",
       "    </tr>\n",
       "    <tr>\n",
       "      <th>134</th>\n",
       "      <td>3</td>\n",
       "      <td>Buckley, Mr. Daniel</td>\n",
       "      <td>0</td>\n",
       "      <td>-0.686315</td>\n",
       "      <td>0</td>\n",
       "      <td>0</td>\n",
       "      <td>-0.478696</td>\n",
       "      <td>Q</td>\n",
       "      <td>Mr</td>\n",
       "      <td>Others</td>\n",
       "      <td>2.0</td>\n",
       "      <td>0</td>\n",
       "      <td>-0.000000</td>\n",
       "    </tr>\n",
       "    <tr>\n",
       "      <th>390</th>\n",
       "      <td>3</td>\n",
       "      <td>Jonsson, Mr. Carl</td>\n",
       "      <td>0</td>\n",
       "      <td>0.078394</td>\n",
       "      <td>0</td>\n",
       "      <td>0</td>\n",
       "      <td>-0.478025</td>\n",
       "      <td>S</td>\n",
       "      <td>Mr</td>\n",
       "      <td>Others</td>\n",
       "      <td>3.0</td>\n",
       "      <td>0</td>\n",
       "      <td>-0.000000</td>\n",
       "    </tr>\n",
       "    <tr>\n",
       "      <th>305</th>\n",
       "      <td>3</td>\n",
       "      <td>Hassan, Mr. Houssein G N</td>\n",
       "      <td>0</td>\n",
       "      <td>-1.381505</td>\n",
       "      <td>0</td>\n",
       "      <td>0</td>\n",
       "      <td>-0.258431</td>\n",
       "      <td>C</td>\n",
       "      <td>Mr</td>\n",
       "      <td>Others</td>\n",
       "      <td>1.0</td>\n",
       "      <td>0</td>\n",
       "      <td>-0.000000</td>\n",
       "    </tr>\n",
       "    <tr>\n",
       "      <th>203</th>\n",
       "      <td>3</td>\n",
       "      <td>Corn, Mr. Harry</td>\n",
       "      <td>0</td>\n",
       "      <td>-0.060644</td>\n",
       "      <td>0</td>\n",
       "      <td>0</td>\n",
       "      <td>-0.474092</td>\n",
       "      <td>S</td>\n",
       "      <td>Mr</td>\n",
       "      <td>Others</td>\n",
       "      <td>3.0</td>\n",
       "      <td>0</td>\n",
       "      <td>-0.000000</td>\n",
       "    </tr>\n",
       "  </tbody>\n",
       "</table>\n",
       "</div>"
      ],
      "text/plain": [
       "     pclass                      name  gender       age  sibsp  parch  \\\n",
       "812       3        Ohman, Miss. Velin       1 -0.616796      0      0   \n",
       "134       3       Buckley, Mr. Daniel       0 -0.686315      0      0   \n",
       "390       3         Jonsson, Mr. Carl       0  0.078394      0      0   \n",
       "305       3  Hassan, Mr. Houssein G N       0 -1.381505      0      0   \n",
       "203       3           Corn, Mr. Harry       0 -0.060644      0      0   \n",
       "\n",
       "         fare embarked designation     job  sub_age  gender*pclass  \\\n",
       "812 -0.479616        S        Miss  Others      2.0              3   \n",
       "134 -0.478696        Q          Mr  Others      2.0              0   \n",
       "390 -0.478025        S          Mr  Others      3.0              0   \n",
       "305 -0.258431        C          Mr  Others      1.0              0   \n",
       "203 -0.474092        S          Mr  Others      3.0              0   \n",
       "\n",
       "     gender*fare  \n",
       "812    -0.479616  \n",
       "134    -0.000000  \n",
       "390    -0.000000  \n",
       "305    -0.000000  \n",
       "203    -0.000000  "
      ]
     },
     "execution_count": 261,
     "metadata": {},
     "output_type": "execute_result"
    }
   ],
   "source": [
    "train['gender*fare'] = train['gender'] * train['fare']\n",
    "test['gender*fare'] = test['gender'] * test['fare']\n",
    "ori_te['gender*fare'] = ori_te['gender'] * ori_te['fare']\n",
    "train.head()"
   ]
  },
  {
   "attachments": {},
   "cell_type": "markdown",
   "metadata": {},
   "source": [
    "### add accompany\n",
    "- sibsp, parch를 모두 고려한 동행자 수 feature를 만들어 보았다."
   ]
  },
  {
   "cell_type": "code",
   "execution_count": 262,
   "metadata": {},
   "outputs": [
    {
     "data": {
      "text/html": [
       "<div>\n",
       "<style scoped>\n",
       "    .dataframe tbody tr th:only-of-type {\n",
       "        vertical-align: middle;\n",
       "    }\n",
       "\n",
       "    .dataframe tbody tr th {\n",
       "        vertical-align: top;\n",
       "    }\n",
       "\n",
       "    .dataframe thead th {\n",
       "        text-align: right;\n",
       "    }\n",
       "</style>\n",
       "<table border=\"1\" class=\"dataframe\">\n",
       "  <thead>\n",
       "    <tr style=\"text-align: right;\">\n",
       "      <th></th>\n",
       "      <th>pclass</th>\n",
       "      <th>name</th>\n",
       "      <th>gender</th>\n",
       "      <th>age</th>\n",
       "      <th>sibsp</th>\n",
       "      <th>parch</th>\n",
       "      <th>fare</th>\n",
       "      <th>embarked</th>\n",
       "      <th>designation</th>\n",
       "      <th>job</th>\n",
       "      <th>sub_age</th>\n",
       "      <th>gender*pclass</th>\n",
       "      <th>gender*fare</th>\n",
       "      <th>accompany</th>\n",
       "    </tr>\n",
       "  </thead>\n",
       "  <tbody>\n",
       "    <tr>\n",
       "      <th>812</th>\n",
       "      <td>3</td>\n",
       "      <td>Ohman, Miss. Velin</td>\n",
       "      <td>1</td>\n",
       "      <td>-0.616796</td>\n",
       "      <td>0</td>\n",
       "      <td>0</td>\n",
       "      <td>-0.479616</td>\n",
       "      <td>S</td>\n",
       "      <td>Miss</td>\n",
       "      <td>Others</td>\n",
       "      <td>2.0</td>\n",
       "      <td>3</td>\n",
       "      <td>-0.479616</td>\n",
       "      <td>0</td>\n",
       "    </tr>\n",
       "    <tr>\n",
       "      <th>134</th>\n",
       "      <td>3</td>\n",
       "      <td>Buckley, Mr. Daniel</td>\n",
       "      <td>0</td>\n",
       "      <td>-0.686315</td>\n",
       "      <td>0</td>\n",
       "      <td>0</td>\n",
       "      <td>-0.478696</td>\n",
       "      <td>Q</td>\n",
       "      <td>Mr</td>\n",
       "      <td>Others</td>\n",
       "      <td>2.0</td>\n",
       "      <td>0</td>\n",
       "      <td>-0.000000</td>\n",
       "      <td>0</td>\n",
       "    </tr>\n",
       "    <tr>\n",
       "      <th>390</th>\n",
       "      <td>3</td>\n",
       "      <td>Jonsson, Mr. Carl</td>\n",
       "      <td>0</td>\n",
       "      <td>0.078394</td>\n",
       "      <td>0</td>\n",
       "      <td>0</td>\n",
       "      <td>-0.478025</td>\n",
       "      <td>S</td>\n",
       "      <td>Mr</td>\n",
       "      <td>Others</td>\n",
       "      <td>3.0</td>\n",
       "      <td>0</td>\n",
       "      <td>-0.000000</td>\n",
       "      <td>0</td>\n",
       "    </tr>\n",
       "    <tr>\n",
       "      <th>305</th>\n",
       "      <td>3</td>\n",
       "      <td>Hassan, Mr. Houssein G N</td>\n",
       "      <td>0</td>\n",
       "      <td>-1.381505</td>\n",
       "      <td>0</td>\n",
       "      <td>0</td>\n",
       "      <td>-0.258431</td>\n",
       "      <td>C</td>\n",
       "      <td>Mr</td>\n",
       "      <td>Others</td>\n",
       "      <td>1.0</td>\n",
       "      <td>0</td>\n",
       "      <td>-0.000000</td>\n",
       "      <td>0</td>\n",
       "    </tr>\n",
       "    <tr>\n",
       "      <th>203</th>\n",
       "      <td>3</td>\n",
       "      <td>Corn, Mr. Harry</td>\n",
       "      <td>0</td>\n",
       "      <td>-0.060644</td>\n",
       "      <td>0</td>\n",
       "      <td>0</td>\n",
       "      <td>-0.474092</td>\n",
       "      <td>S</td>\n",
       "      <td>Mr</td>\n",
       "      <td>Others</td>\n",
       "      <td>3.0</td>\n",
       "      <td>0</td>\n",
       "      <td>-0.000000</td>\n",
       "      <td>0</td>\n",
       "    </tr>\n",
       "  </tbody>\n",
       "</table>\n",
       "</div>"
      ],
      "text/plain": [
       "     pclass                      name  gender       age  sibsp  parch  \\\n",
       "812       3        Ohman, Miss. Velin       1 -0.616796      0      0   \n",
       "134       3       Buckley, Mr. Daniel       0 -0.686315      0      0   \n",
       "390       3         Jonsson, Mr. Carl       0  0.078394      0      0   \n",
       "305       3  Hassan, Mr. Houssein G N       0 -1.381505      0      0   \n",
       "203       3           Corn, Mr. Harry       0 -0.060644      0      0   \n",
       "\n",
       "         fare embarked designation     job  sub_age  gender*pclass  \\\n",
       "812 -0.479616        S        Miss  Others      2.0              3   \n",
       "134 -0.478696        Q          Mr  Others      2.0              0   \n",
       "390 -0.478025        S          Mr  Others      3.0              0   \n",
       "305 -0.258431        C          Mr  Others      1.0              0   \n",
       "203 -0.474092        S          Mr  Others      3.0              0   \n",
       "\n",
       "     gender*fare  accompany  \n",
       "812    -0.479616          0  \n",
       "134    -0.000000          0  \n",
       "390    -0.000000          0  \n",
       "305    -0.000000          0  \n",
       "203    -0.000000          0  "
      ]
     },
     "execution_count": 262,
     "metadata": {},
     "output_type": "execute_result"
    }
   ],
   "source": [
    "train['accompany'] = train['sibsp'] + train['parch']\n",
    "test['accompany'] = test['sibsp'] + test['parch']\n",
    "ori_te['accompany'] = ori_te['sibsp'] + ori_te['parch']\n",
    "train.head()"
   ]
  },
  {
   "attachments": {},
   "cell_type": "markdown",
   "metadata": {},
   "source": [
    "### add alone\n",
    "- 시각화에서 일행이 없는 경우 사망률이 높은 경향도 있었기 때문에, 동승자 여부와 관련된 feature도 추출해보았다."
   ]
  },
  {
   "cell_type": "code",
   "execution_count": 263,
   "metadata": {},
   "outputs": [
    {
     "data": {
      "text/html": [
       "<div>\n",
       "<style scoped>\n",
       "    .dataframe tbody tr th:only-of-type {\n",
       "        vertical-align: middle;\n",
       "    }\n",
       "\n",
       "    .dataframe tbody tr th {\n",
       "        vertical-align: top;\n",
       "    }\n",
       "\n",
       "    .dataframe thead th {\n",
       "        text-align: right;\n",
       "    }\n",
       "</style>\n",
       "<table border=\"1\" class=\"dataframe\">\n",
       "  <thead>\n",
       "    <tr style=\"text-align: right;\">\n",
       "      <th></th>\n",
       "      <th>pclass</th>\n",
       "      <th>name</th>\n",
       "      <th>gender</th>\n",
       "      <th>age</th>\n",
       "      <th>sibsp</th>\n",
       "      <th>parch</th>\n",
       "      <th>fare</th>\n",
       "      <th>embarked</th>\n",
       "      <th>designation</th>\n",
       "      <th>job</th>\n",
       "      <th>sub_age</th>\n",
       "      <th>gender*pclass</th>\n",
       "      <th>gender*fare</th>\n",
       "      <th>accompany</th>\n",
       "      <th>alone</th>\n",
       "    </tr>\n",
       "  </thead>\n",
       "  <tbody>\n",
       "    <tr>\n",
       "      <th>812</th>\n",
       "      <td>3</td>\n",
       "      <td>Ohman, Miss. Velin</td>\n",
       "      <td>1</td>\n",
       "      <td>-0.616796</td>\n",
       "      <td>0</td>\n",
       "      <td>0</td>\n",
       "      <td>-0.479616</td>\n",
       "      <td>S</td>\n",
       "      <td>Miss</td>\n",
       "      <td>Others</td>\n",
       "      <td>2.0</td>\n",
       "      <td>3</td>\n",
       "      <td>-0.479616</td>\n",
       "      <td>0</td>\n",
       "      <td>1</td>\n",
       "    </tr>\n",
       "    <tr>\n",
       "      <th>134</th>\n",
       "      <td>3</td>\n",
       "      <td>Buckley, Mr. Daniel</td>\n",
       "      <td>0</td>\n",
       "      <td>-0.686315</td>\n",
       "      <td>0</td>\n",
       "      <td>0</td>\n",
       "      <td>-0.478696</td>\n",
       "      <td>Q</td>\n",
       "      <td>Mr</td>\n",
       "      <td>Others</td>\n",
       "      <td>2.0</td>\n",
       "      <td>0</td>\n",
       "      <td>-0.000000</td>\n",
       "      <td>0</td>\n",
       "      <td>1</td>\n",
       "    </tr>\n",
       "    <tr>\n",
       "      <th>390</th>\n",
       "      <td>3</td>\n",
       "      <td>Jonsson, Mr. Carl</td>\n",
       "      <td>0</td>\n",
       "      <td>0.078394</td>\n",
       "      <td>0</td>\n",
       "      <td>0</td>\n",
       "      <td>-0.478025</td>\n",
       "      <td>S</td>\n",
       "      <td>Mr</td>\n",
       "      <td>Others</td>\n",
       "      <td>3.0</td>\n",
       "      <td>0</td>\n",
       "      <td>-0.000000</td>\n",
       "      <td>0</td>\n",
       "      <td>1</td>\n",
       "    </tr>\n",
       "    <tr>\n",
       "      <th>305</th>\n",
       "      <td>3</td>\n",
       "      <td>Hassan, Mr. Houssein G N</td>\n",
       "      <td>0</td>\n",
       "      <td>-1.381505</td>\n",
       "      <td>0</td>\n",
       "      <td>0</td>\n",
       "      <td>-0.258431</td>\n",
       "      <td>C</td>\n",
       "      <td>Mr</td>\n",
       "      <td>Others</td>\n",
       "      <td>1.0</td>\n",
       "      <td>0</td>\n",
       "      <td>-0.000000</td>\n",
       "      <td>0</td>\n",
       "      <td>1</td>\n",
       "    </tr>\n",
       "    <tr>\n",
       "      <th>203</th>\n",
       "      <td>3</td>\n",
       "      <td>Corn, Mr. Harry</td>\n",
       "      <td>0</td>\n",
       "      <td>-0.060644</td>\n",
       "      <td>0</td>\n",
       "      <td>0</td>\n",
       "      <td>-0.474092</td>\n",
       "      <td>S</td>\n",
       "      <td>Mr</td>\n",
       "      <td>Others</td>\n",
       "      <td>3.0</td>\n",
       "      <td>0</td>\n",
       "      <td>-0.000000</td>\n",
       "      <td>0</td>\n",
       "      <td>1</td>\n",
       "    </tr>\n",
       "  </tbody>\n",
       "</table>\n",
       "</div>"
      ],
      "text/plain": [
       "     pclass                      name  gender       age  sibsp  parch  \\\n",
       "812       3        Ohman, Miss. Velin       1 -0.616796      0      0   \n",
       "134       3       Buckley, Mr. Daniel       0 -0.686315      0      0   \n",
       "390       3         Jonsson, Mr. Carl       0  0.078394      0      0   \n",
       "305       3  Hassan, Mr. Houssein G N       0 -1.381505      0      0   \n",
       "203       3           Corn, Mr. Harry       0 -0.060644      0      0   \n",
       "\n",
       "         fare embarked designation     job  sub_age  gender*pclass  \\\n",
       "812 -0.479616        S        Miss  Others      2.0              3   \n",
       "134 -0.478696        Q          Mr  Others      2.0              0   \n",
       "390 -0.478025        S          Mr  Others      3.0              0   \n",
       "305 -0.258431        C          Mr  Others      1.0              0   \n",
       "203 -0.474092        S          Mr  Others      3.0              0   \n",
       "\n",
       "     gender*fare  accompany  alone  \n",
       "812    -0.479616          0      1  \n",
       "134    -0.000000          0      1  \n",
       "390    -0.000000          0      1  \n",
       "305    -0.000000          0      1  \n",
       "203    -0.000000          0      1  "
      ]
     },
     "execution_count": 263,
     "metadata": {},
     "output_type": "execute_result"
    }
   ],
   "source": [
    "train['alone'] = 0\n",
    "test['alone'] = 0\n",
    "ori_te['alone'] = 0\n",
    "\n",
    "train.loc[train['accompany'] == 0, 'alone'] = 1\n",
    "test.loc[test['accompany'] == 0, 'alone'] = 1\n",
    "ori_te.loc[ori_te['accompany'] == 0, 'alone'] = 1\n",
    "\n",
    "train.head()"
   ]
  },
  {
   "attachments": {},
   "cell_type": "markdown",
   "metadata": {},
   "source": [
    "### add gender * alone\n",
    "- 동승자 정보와 성별을 연관지어 새로운 feature 생성"
   ]
  },
  {
   "cell_type": "code",
   "execution_count": 264,
   "metadata": {},
   "outputs": [
    {
     "data": {
      "text/html": [
       "<div>\n",
       "<style scoped>\n",
       "    .dataframe tbody tr th:only-of-type {\n",
       "        vertical-align: middle;\n",
       "    }\n",
       "\n",
       "    .dataframe tbody tr th {\n",
       "        vertical-align: top;\n",
       "    }\n",
       "\n",
       "    .dataframe thead th {\n",
       "        text-align: right;\n",
       "    }\n",
       "</style>\n",
       "<table border=\"1\" class=\"dataframe\">\n",
       "  <thead>\n",
       "    <tr style=\"text-align: right;\">\n",
       "      <th></th>\n",
       "      <th>pclass</th>\n",
       "      <th>name</th>\n",
       "      <th>gender</th>\n",
       "      <th>age</th>\n",
       "      <th>sibsp</th>\n",
       "      <th>parch</th>\n",
       "      <th>fare</th>\n",
       "      <th>embarked</th>\n",
       "      <th>designation</th>\n",
       "      <th>job</th>\n",
       "      <th>sub_age</th>\n",
       "      <th>gender*pclass</th>\n",
       "      <th>gender*fare</th>\n",
       "      <th>accompany</th>\n",
       "      <th>alone</th>\n",
       "      <th>gender*alone</th>\n",
       "    </tr>\n",
       "  </thead>\n",
       "  <tbody>\n",
       "    <tr>\n",
       "      <th>812</th>\n",
       "      <td>3</td>\n",
       "      <td>Ohman, Miss. Velin</td>\n",
       "      <td>1</td>\n",
       "      <td>-0.616796</td>\n",
       "      <td>0</td>\n",
       "      <td>0</td>\n",
       "      <td>-0.479616</td>\n",
       "      <td>S</td>\n",
       "      <td>Miss</td>\n",
       "      <td>Others</td>\n",
       "      <td>2.0</td>\n",
       "      <td>3</td>\n",
       "      <td>-0.479616</td>\n",
       "      <td>0</td>\n",
       "      <td>1</td>\n",
       "      <td>1</td>\n",
       "    </tr>\n",
       "    <tr>\n",
       "      <th>134</th>\n",
       "      <td>3</td>\n",
       "      <td>Buckley, Mr. Daniel</td>\n",
       "      <td>0</td>\n",
       "      <td>-0.686315</td>\n",
       "      <td>0</td>\n",
       "      <td>0</td>\n",
       "      <td>-0.478696</td>\n",
       "      <td>Q</td>\n",
       "      <td>Mr</td>\n",
       "      <td>Others</td>\n",
       "      <td>2.0</td>\n",
       "      <td>0</td>\n",
       "      <td>-0.000000</td>\n",
       "      <td>0</td>\n",
       "      <td>1</td>\n",
       "      <td>0</td>\n",
       "    </tr>\n",
       "    <tr>\n",
       "      <th>390</th>\n",
       "      <td>3</td>\n",
       "      <td>Jonsson, Mr. Carl</td>\n",
       "      <td>0</td>\n",
       "      <td>0.078394</td>\n",
       "      <td>0</td>\n",
       "      <td>0</td>\n",
       "      <td>-0.478025</td>\n",
       "      <td>S</td>\n",
       "      <td>Mr</td>\n",
       "      <td>Others</td>\n",
       "      <td>3.0</td>\n",
       "      <td>0</td>\n",
       "      <td>-0.000000</td>\n",
       "      <td>0</td>\n",
       "      <td>1</td>\n",
       "      <td>0</td>\n",
       "    </tr>\n",
       "    <tr>\n",
       "      <th>305</th>\n",
       "      <td>3</td>\n",
       "      <td>Hassan, Mr. Houssein G N</td>\n",
       "      <td>0</td>\n",
       "      <td>-1.381505</td>\n",
       "      <td>0</td>\n",
       "      <td>0</td>\n",
       "      <td>-0.258431</td>\n",
       "      <td>C</td>\n",
       "      <td>Mr</td>\n",
       "      <td>Others</td>\n",
       "      <td>1.0</td>\n",
       "      <td>0</td>\n",
       "      <td>-0.000000</td>\n",
       "      <td>0</td>\n",
       "      <td>1</td>\n",
       "      <td>0</td>\n",
       "    </tr>\n",
       "    <tr>\n",
       "      <th>203</th>\n",
       "      <td>3</td>\n",
       "      <td>Corn, Mr. Harry</td>\n",
       "      <td>0</td>\n",
       "      <td>-0.060644</td>\n",
       "      <td>0</td>\n",
       "      <td>0</td>\n",
       "      <td>-0.474092</td>\n",
       "      <td>S</td>\n",
       "      <td>Mr</td>\n",
       "      <td>Others</td>\n",
       "      <td>3.0</td>\n",
       "      <td>0</td>\n",
       "      <td>-0.000000</td>\n",
       "      <td>0</td>\n",
       "      <td>1</td>\n",
       "      <td>0</td>\n",
       "    </tr>\n",
       "  </tbody>\n",
       "</table>\n",
       "</div>"
      ],
      "text/plain": [
       "     pclass                      name  gender       age  sibsp  parch  \\\n",
       "812       3        Ohman, Miss. Velin       1 -0.616796      0      0   \n",
       "134       3       Buckley, Mr. Daniel       0 -0.686315      0      0   \n",
       "390       3         Jonsson, Mr. Carl       0  0.078394      0      0   \n",
       "305       3  Hassan, Mr. Houssein G N       0 -1.381505      0      0   \n",
       "203       3           Corn, Mr. Harry       0 -0.060644      0      0   \n",
       "\n",
       "         fare embarked designation     job  sub_age  gender*pclass  \\\n",
       "812 -0.479616        S        Miss  Others      2.0              3   \n",
       "134 -0.478696        Q          Mr  Others      2.0              0   \n",
       "390 -0.478025        S          Mr  Others      3.0              0   \n",
       "305 -0.258431        C          Mr  Others      1.0              0   \n",
       "203 -0.474092        S          Mr  Others      3.0              0   \n",
       "\n",
       "     gender*fare  accompany  alone  gender*alone  \n",
       "812    -0.479616          0      1             1  \n",
       "134    -0.000000          0      1             0  \n",
       "390    -0.000000          0      1             0  \n",
       "305    -0.000000          0      1             0  \n",
       "203    -0.000000          0      1             0  "
      ]
     },
     "execution_count": 264,
     "metadata": {},
     "output_type": "execute_result"
    }
   ],
   "source": [
    "train['gender*alone'] = train['gender'] * train['alone']\n",
    "test['gender*alone'] = test['gender'] * test['alone']\n",
    "ori_te['gender*alone'] = ori_te['gender'] * ori_te['alone']\n",
    "train.head()"
   ]
  },
  {
   "attachments": {},
   "cell_type": "markdown",
   "metadata": {},
   "source": [
    "### add gender * accompany"
   ]
  },
  {
   "cell_type": "code",
   "execution_count": 265,
   "metadata": {},
   "outputs": [
    {
     "data": {
      "text/html": [
       "<div>\n",
       "<style scoped>\n",
       "    .dataframe tbody tr th:only-of-type {\n",
       "        vertical-align: middle;\n",
       "    }\n",
       "\n",
       "    .dataframe tbody tr th {\n",
       "        vertical-align: top;\n",
       "    }\n",
       "\n",
       "    .dataframe thead th {\n",
       "        text-align: right;\n",
       "    }\n",
       "</style>\n",
       "<table border=\"1\" class=\"dataframe\">\n",
       "  <thead>\n",
       "    <tr style=\"text-align: right;\">\n",
       "      <th></th>\n",
       "      <th>pclass</th>\n",
       "      <th>name</th>\n",
       "      <th>gender</th>\n",
       "      <th>age</th>\n",
       "      <th>sibsp</th>\n",
       "      <th>parch</th>\n",
       "      <th>fare</th>\n",
       "      <th>embarked</th>\n",
       "      <th>designation</th>\n",
       "      <th>job</th>\n",
       "      <th>sub_age</th>\n",
       "      <th>gender*pclass</th>\n",
       "      <th>gender*fare</th>\n",
       "      <th>accompany</th>\n",
       "      <th>alone</th>\n",
       "      <th>gender*alone</th>\n",
       "      <th>gender*accompany</th>\n",
       "    </tr>\n",
       "  </thead>\n",
       "  <tbody>\n",
       "    <tr>\n",
       "      <th>812</th>\n",
       "      <td>3</td>\n",
       "      <td>Ohman, Miss. Velin</td>\n",
       "      <td>1</td>\n",
       "      <td>-0.616796</td>\n",
       "      <td>0</td>\n",
       "      <td>0</td>\n",
       "      <td>-0.479616</td>\n",
       "      <td>S</td>\n",
       "      <td>Miss</td>\n",
       "      <td>Others</td>\n",
       "      <td>2.0</td>\n",
       "      <td>3</td>\n",
       "      <td>-0.479616</td>\n",
       "      <td>0</td>\n",
       "      <td>1</td>\n",
       "      <td>1</td>\n",
       "      <td>0</td>\n",
       "    </tr>\n",
       "    <tr>\n",
       "      <th>134</th>\n",
       "      <td>3</td>\n",
       "      <td>Buckley, Mr. Daniel</td>\n",
       "      <td>0</td>\n",
       "      <td>-0.686315</td>\n",
       "      <td>0</td>\n",
       "      <td>0</td>\n",
       "      <td>-0.478696</td>\n",
       "      <td>Q</td>\n",
       "      <td>Mr</td>\n",
       "      <td>Others</td>\n",
       "      <td>2.0</td>\n",
       "      <td>0</td>\n",
       "      <td>-0.000000</td>\n",
       "      <td>0</td>\n",
       "      <td>1</td>\n",
       "      <td>0</td>\n",
       "      <td>0</td>\n",
       "    </tr>\n",
       "    <tr>\n",
       "      <th>390</th>\n",
       "      <td>3</td>\n",
       "      <td>Jonsson, Mr. Carl</td>\n",
       "      <td>0</td>\n",
       "      <td>0.078394</td>\n",
       "      <td>0</td>\n",
       "      <td>0</td>\n",
       "      <td>-0.478025</td>\n",
       "      <td>S</td>\n",
       "      <td>Mr</td>\n",
       "      <td>Others</td>\n",
       "      <td>3.0</td>\n",
       "      <td>0</td>\n",
       "      <td>-0.000000</td>\n",
       "      <td>0</td>\n",
       "      <td>1</td>\n",
       "      <td>0</td>\n",
       "      <td>0</td>\n",
       "    </tr>\n",
       "    <tr>\n",
       "      <th>305</th>\n",
       "      <td>3</td>\n",
       "      <td>Hassan, Mr. Houssein G N</td>\n",
       "      <td>0</td>\n",
       "      <td>-1.381505</td>\n",
       "      <td>0</td>\n",
       "      <td>0</td>\n",
       "      <td>-0.258431</td>\n",
       "      <td>C</td>\n",
       "      <td>Mr</td>\n",
       "      <td>Others</td>\n",
       "      <td>1.0</td>\n",
       "      <td>0</td>\n",
       "      <td>-0.000000</td>\n",
       "      <td>0</td>\n",
       "      <td>1</td>\n",
       "      <td>0</td>\n",
       "      <td>0</td>\n",
       "    </tr>\n",
       "    <tr>\n",
       "      <th>203</th>\n",
       "      <td>3</td>\n",
       "      <td>Corn, Mr. Harry</td>\n",
       "      <td>0</td>\n",
       "      <td>-0.060644</td>\n",
       "      <td>0</td>\n",
       "      <td>0</td>\n",
       "      <td>-0.474092</td>\n",
       "      <td>S</td>\n",
       "      <td>Mr</td>\n",
       "      <td>Others</td>\n",
       "      <td>3.0</td>\n",
       "      <td>0</td>\n",
       "      <td>-0.000000</td>\n",
       "      <td>0</td>\n",
       "      <td>1</td>\n",
       "      <td>0</td>\n",
       "      <td>0</td>\n",
       "    </tr>\n",
       "  </tbody>\n",
       "</table>\n",
       "</div>"
      ],
      "text/plain": [
       "     pclass                      name  gender       age  sibsp  parch  \\\n",
       "812       3        Ohman, Miss. Velin       1 -0.616796      0      0   \n",
       "134       3       Buckley, Mr. Daniel       0 -0.686315      0      0   \n",
       "390       3         Jonsson, Mr. Carl       0  0.078394      0      0   \n",
       "305       3  Hassan, Mr. Houssein G N       0 -1.381505      0      0   \n",
       "203       3           Corn, Mr. Harry       0 -0.060644      0      0   \n",
       "\n",
       "         fare embarked designation     job  sub_age  gender*pclass  \\\n",
       "812 -0.479616        S        Miss  Others      2.0              3   \n",
       "134 -0.478696        Q          Mr  Others      2.0              0   \n",
       "390 -0.478025        S          Mr  Others      3.0              0   \n",
       "305 -0.258431        C          Mr  Others      1.0              0   \n",
       "203 -0.474092        S          Mr  Others      3.0              0   \n",
       "\n",
       "     gender*fare  accompany  alone  gender*alone  gender*accompany  \n",
       "812    -0.479616          0      1             1                 0  \n",
       "134    -0.000000          0      1             0                 0  \n",
       "390    -0.000000          0      1             0                 0  \n",
       "305    -0.000000          0      1             0                 0  \n",
       "203    -0.000000          0      1             0                 0  "
      ]
     },
     "execution_count": 265,
     "metadata": {},
     "output_type": "execute_result"
    }
   ],
   "source": [
    "train['gender*accompany'] = train['gender'] * train['accompany']\n",
    "test['gender*accompany'] = test['gender'] * test['accompany']\n",
    "ori_te['gender*accompany'] = ori_te['gender'] * ori_te['accompany']\n",
    "train.head()"
   ]
  },
  {
   "attachments": {},
   "cell_type": "markdown",
   "metadata": {},
   "source": [
    "## One hot Encoding\n",
    "- object 뿐만 아니라 수치형 데이터 중 데이터에 연속성이 없다는 것을 알려주고 싶은 feature를 골라 인코딩"
   ]
  },
  {
   "cell_type": "code",
   "execution_count": 266,
   "metadata": {},
   "outputs": [
    {
     "name": "stdout",
     "output_type": "stream",
     "text": [
      "<class 'pandas.core.frame.DataFrame'>\n",
      "Int64Index: 641 entries, 812 to 277\n",
      "Data columns (total 17 columns):\n",
      " #   Column            Non-Null Count  Dtype  \n",
      "---  ------            --------------  -----  \n",
      " 0   pclass            641 non-null    int64  \n",
      " 1   name              641 non-null    object \n",
      " 2   gender            641 non-null    int32  \n",
      " 3   age               641 non-null    float64\n",
      " 4   sibsp             641 non-null    int64  \n",
      " 5   parch             641 non-null    int64  \n",
      " 6   fare              641 non-null    float64\n",
      " 7   embarked          641 non-null    object \n",
      " 8   designation       641 non-null    object \n",
      " 9   job               641 non-null    object \n",
      " 10  sub_age           641 non-null    float64\n",
      " 11  gender*pclass     641 non-null    int64  \n",
      " 12  gender*fare       641 non-null    float64\n",
      " 13  accompany         641 non-null    int64  \n",
      " 14  alone             641 non-null    int64  \n",
      " 15  gender*alone      641 non-null    int64  \n",
      " 16  gender*accompany  641 non-null    int64  \n",
      "dtypes: float64(4), int32(1), int64(8), object(4)\n",
      "memory usage: 87.6+ KB\n"
     ]
    }
   ],
   "source": [
    "train.info()"
   ]
  },
  {
   "cell_type": "code",
   "execution_count": 267,
   "metadata": {},
   "outputs": [
    {
     "data": {
      "text/plain": [
       "pclass              0\n",
       "name                0\n",
       "gender              0\n",
       "age                 0\n",
       "sibsp               0\n",
       "parch               0\n",
       "fare                0\n",
       "embarked            0\n",
       "designation         0\n",
       "job                 0\n",
       "sub_age             0\n",
       "gender*pclass       0\n",
       "gender*fare         0\n",
       "accompany           0\n",
       "alone               0\n",
       "gender*alone        0\n",
       "gender*accompany    0\n",
       "dtype: int64"
      ]
     },
     "execution_count": 267,
     "metadata": {},
     "output_type": "execute_result"
    }
   ],
   "source": [
    "ori_te.isnull().sum()"
   ]
  },
  {
   "cell_type": "code",
   "execution_count": 268,
   "metadata": {},
   "outputs": [],
   "source": [
    "from sklearn.preprocessing import OneHotEncoder"
   ]
  },
  {
   "cell_type": "code",
   "execution_count": 269,
   "metadata": {},
   "outputs": [],
   "source": [
    "cols = ['pclass', 'embarked', 'designation', 'job', 'accompany', 'sub_age']"
   ]
  },
  {
   "cell_type": "code",
   "execution_count": 270,
   "metadata": {},
   "outputs": [
    {
     "name": "stdout",
     "output_type": "stream",
     "text": [
      "before: (641, 17) / (275, 17)\n",
      "after: (641, 48) / (275, 48)\n"
     ]
    },
    {
     "data": {
      "text/html": [
       "<div>\n",
       "<style scoped>\n",
       "    .dataframe tbody tr th:only-of-type {\n",
       "        vertical-align: middle;\n",
       "    }\n",
       "\n",
       "    .dataframe tbody tr th {\n",
       "        vertical-align: top;\n",
       "    }\n",
       "\n",
       "    .dataframe thead th {\n",
       "        text-align: right;\n",
       "    }\n",
       "</style>\n",
       "<table border=\"1\" class=\"dataframe\">\n",
       "  <thead>\n",
       "    <tr style=\"text-align: right;\">\n",
       "      <th></th>\n",
       "      <th>pclass</th>\n",
       "      <th>name</th>\n",
       "      <th>gender</th>\n",
       "      <th>age</th>\n",
       "      <th>sibsp</th>\n",
       "      <th>parch</th>\n",
       "      <th>fare</th>\n",
       "      <th>embarked</th>\n",
       "      <th>designation</th>\n",
       "      <th>job</th>\n",
       "      <th>...</th>\n",
       "      <th>accompany_10</th>\n",
       "      <th>sub_age_0.0</th>\n",
       "      <th>sub_age_1.0</th>\n",
       "      <th>sub_age_2.0</th>\n",
       "      <th>sub_age_3.0</th>\n",
       "      <th>sub_age_4.0</th>\n",
       "      <th>sub_age_5.0</th>\n",
       "      <th>sub_age_6.0</th>\n",
       "      <th>sub_age_7.0</th>\n",
       "      <th>sub_age_8.0</th>\n",
       "    </tr>\n",
       "  </thead>\n",
       "  <tbody>\n",
       "    <tr>\n",
       "      <th>0</th>\n",
       "      <td>3</td>\n",
       "      <td>Ohman, Miss. Velin</td>\n",
       "      <td>1</td>\n",
       "      <td>-0.616796</td>\n",
       "      <td>0</td>\n",
       "      <td>0</td>\n",
       "      <td>-0.479616</td>\n",
       "      <td>S</td>\n",
       "      <td>Miss</td>\n",
       "      <td>Others</td>\n",
       "      <td>...</td>\n",
       "      <td>0.0</td>\n",
       "      <td>0.0</td>\n",
       "      <td>0.0</td>\n",
       "      <td>1.0</td>\n",
       "      <td>0.0</td>\n",
       "      <td>0.0</td>\n",
       "      <td>0.0</td>\n",
       "      <td>0.0</td>\n",
       "      <td>0.0</td>\n",
       "      <td>0.0</td>\n",
       "    </tr>\n",
       "    <tr>\n",
       "      <th>1</th>\n",
       "      <td>3</td>\n",
       "      <td>Buckley, Mr. Daniel</td>\n",
       "      <td>0</td>\n",
       "      <td>-0.686315</td>\n",
       "      <td>0</td>\n",
       "      <td>0</td>\n",
       "      <td>-0.478696</td>\n",
       "      <td>Q</td>\n",
       "      <td>Mr</td>\n",
       "      <td>Others</td>\n",
       "      <td>...</td>\n",
       "      <td>0.0</td>\n",
       "      <td>0.0</td>\n",
       "      <td>0.0</td>\n",
       "      <td>1.0</td>\n",
       "      <td>0.0</td>\n",
       "      <td>0.0</td>\n",
       "      <td>0.0</td>\n",
       "      <td>0.0</td>\n",
       "      <td>0.0</td>\n",
       "      <td>0.0</td>\n",
       "    </tr>\n",
       "    <tr>\n",
       "      <th>2</th>\n",
       "      <td>3</td>\n",
       "      <td>Jonsson, Mr. Carl</td>\n",
       "      <td>0</td>\n",
       "      <td>0.078394</td>\n",
       "      <td>0</td>\n",
       "      <td>0</td>\n",
       "      <td>-0.478025</td>\n",
       "      <td>S</td>\n",
       "      <td>Mr</td>\n",
       "      <td>Others</td>\n",
       "      <td>...</td>\n",
       "      <td>0.0</td>\n",
       "      <td>0.0</td>\n",
       "      <td>0.0</td>\n",
       "      <td>0.0</td>\n",
       "      <td>1.0</td>\n",
       "      <td>0.0</td>\n",
       "      <td>0.0</td>\n",
       "      <td>0.0</td>\n",
       "      <td>0.0</td>\n",
       "      <td>0.0</td>\n",
       "    </tr>\n",
       "    <tr>\n",
       "      <th>3</th>\n",
       "      <td>3</td>\n",
       "      <td>Hassan, Mr. Houssein G N</td>\n",
       "      <td>0</td>\n",
       "      <td>-1.381505</td>\n",
       "      <td>0</td>\n",
       "      <td>0</td>\n",
       "      <td>-0.258431</td>\n",
       "      <td>C</td>\n",
       "      <td>Mr</td>\n",
       "      <td>Others</td>\n",
       "      <td>...</td>\n",
       "      <td>0.0</td>\n",
       "      <td>0.0</td>\n",
       "      <td>1.0</td>\n",
       "      <td>0.0</td>\n",
       "      <td>0.0</td>\n",
       "      <td>0.0</td>\n",
       "      <td>0.0</td>\n",
       "      <td>0.0</td>\n",
       "      <td>0.0</td>\n",
       "      <td>0.0</td>\n",
       "    </tr>\n",
       "    <tr>\n",
       "      <th>4</th>\n",
       "      <td>3</td>\n",
       "      <td>Corn, Mr. Harry</td>\n",
       "      <td>0</td>\n",
       "      <td>-0.060644</td>\n",
       "      <td>0</td>\n",
       "      <td>0</td>\n",
       "      <td>-0.474092</td>\n",
       "      <td>S</td>\n",
       "      <td>Mr</td>\n",
       "      <td>Others</td>\n",
       "      <td>...</td>\n",
       "      <td>0.0</td>\n",
       "      <td>0.0</td>\n",
       "      <td>0.0</td>\n",
       "      <td>0.0</td>\n",
       "      <td>1.0</td>\n",
       "      <td>0.0</td>\n",
       "      <td>0.0</td>\n",
       "      <td>0.0</td>\n",
       "      <td>0.0</td>\n",
       "      <td>0.0</td>\n",
       "    </tr>\n",
       "  </tbody>\n",
       "</table>\n",
       "<p>5 rows × 48 columns</p>\n",
       "</div>"
      ],
      "text/plain": [
       "   pclass                      name  gender       age  sibsp  parch      fare  \\\n",
       "0       3        Ohman, Miss. Velin       1 -0.616796      0      0 -0.479616   \n",
       "1       3       Buckley, Mr. Daniel       0 -0.686315      0      0 -0.478696   \n",
       "2       3         Jonsson, Mr. Carl       0  0.078394      0      0 -0.478025   \n",
       "3       3  Hassan, Mr. Houssein G N       0 -1.381505      0      0 -0.258431   \n",
       "4       3           Corn, Mr. Harry       0 -0.060644      0      0 -0.474092   \n",
       "\n",
       "  embarked designation     job  ...  accompany_10  sub_age_0.0  sub_age_1.0  \\\n",
       "0        S        Miss  Others  ...           0.0          0.0          0.0   \n",
       "1        Q          Mr  Others  ...           0.0          0.0          0.0   \n",
       "2        S          Mr  Others  ...           0.0          0.0          0.0   \n",
       "3        C          Mr  Others  ...           0.0          0.0          1.0   \n",
       "4        S          Mr  Others  ...           0.0          0.0          0.0   \n",
       "\n",
       "   sub_age_2.0  sub_age_3.0  sub_age_4.0  sub_age_5.0  sub_age_6.0  \\\n",
       "0          1.0          0.0          0.0          0.0          0.0   \n",
       "1          1.0          0.0          0.0          0.0          0.0   \n",
       "2          0.0          1.0          0.0          0.0          0.0   \n",
       "3          0.0          0.0          0.0          0.0          0.0   \n",
       "4          0.0          1.0          0.0          0.0          0.0   \n",
       "\n",
       "   sub_age_7.0  sub_age_8.0  \n",
       "0          0.0          0.0  \n",
       "1          0.0          0.0  \n",
       "2          0.0          0.0  \n",
       "3          0.0          0.0  \n",
       "4          0.0          0.0  \n",
       "\n",
       "[5 rows x 48 columns]"
      ]
     },
     "execution_count": 270,
     "metadata": {},
     "output_type": "execute_result"
    }
   ],
   "source": [
    "# 다른 방식으로도 구현할 수 있을 것 같다...\n",
    "\n",
    "print(f'before: {train.shape} / {test.shape}')\n",
    "\n",
    "enc = OneHotEncoder(handle_unknown = 'ignore')\n",
    "\n",
    "# train\n",
    "tmp_tr = pd.DataFrame(\n",
    "    enc.fit_transform(train[cols]).toarray(), \n",
    "    columns = enc.get_feature_names_out()\n",
    ")\n",
    "enc_tr = pd.concat(\n",
    "    [train.reset_index(drop=True), tmp_tr.reset_index(drop=True)]\n",
    "    , axis=1\n",
    ")\n",
    "# test\n",
    "tmp_te = pd.DataFrame(\n",
    "    enc.transform(test[cols]).toarray(), \n",
    "    columns = enc.get_feature_names_out()\n",
    ")\n",
    "enc_te = pd.concat(\n",
    "    [test.reset_index(drop=True), tmp_te.reset_index(drop=True)]\n",
    "    , axis=1\n",
    ")\n",
    "# ori_test\n",
    "tmp_te = pd.DataFrame(\n",
    "    enc.transform(ori_te[cols]).toarray(), \n",
    "    columns = enc.get_feature_names_out()\n",
    ")\n",
    "enc_ori_te = pd.concat(\n",
    "    [ori_te.reset_index(drop=True), tmp_te.reset_index(drop=True)]\n",
    "    , axis=1\n",
    ")\n",
    "\n",
    "print(f'after: {enc_tr.shape} / {enc_te.shape}')\n",
    "enc_tr.head()"
   ]
  },
  {
   "cell_type": "code",
   "execution_count": 271,
   "metadata": {},
   "outputs": [
    {
     "name": "stdout",
     "output_type": "stream",
     "text": [
      "<class 'pandas.core.frame.DataFrame'>\n",
      "RangeIndex: 641 entries, 0 to 640\n",
      "Data columns (total 43 columns):\n",
      " #   Column              Non-Null Count  Dtype  \n",
      "---  ------              --------------  -----  \n",
      " 0   pclass              641 non-null    int64  \n",
      " 1   gender              641 non-null    int32  \n",
      " 2   age                 641 non-null    float64\n",
      " 3   sibsp               641 non-null    int64  \n",
      " 4   parch               641 non-null    int64  \n",
      " 5   fare                641 non-null    float64\n",
      " 6   gender*pclass       641 non-null    int64  \n",
      " 7   gender*fare         641 non-null    float64\n",
      " 8   accompany           641 non-null    int64  \n",
      " 9   alone               641 non-null    int64  \n",
      " 10  gender*alone        641 non-null    int64  \n",
      " 11  gender*accompany    641 non-null    int64  \n",
      " 12  pclass_1            641 non-null    float64\n",
      " 13  pclass_2            641 non-null    float64\n",
      " 14  pclass_3            641 non-null    float64\n",
      " 15  embarked_C          641 non-null    float64\n",
      " 16  embarked_Q          641 non-null    float64\n",
      " 17  embarked_S          641 non-null    float64\n",
      " 18  designation_Master  641 non-null    float64\n",
      " 19  designation_Miss    641 non-null    float64\n",
      " 20  designation_Mr      641 non-null    float64\n",
      " 21  designation_Rare    641 non-null    float64\n",
      " 22  job_Officer         641 non-null    float64\n",
      " 23  job_Others          641 non-null    float64\n",
      " 24  job_Royalty         641 non-null    float64\n",
      " 25  accompany_0         641 non-null    float64\n",
      " 26  accompany_1         641 non-null    float64\n",
      " 27  accompany_2         641 non-null    float64\n",
      " 28  accompany_3         641 non-null    float64\n",
      " 29  accompany_4         641 non-null    float64\n",
      " 30  accompany_5         641 non-null    float64\n",
      " 31  accompany_6         641 non-null    float64\n",
      " 32  accompany_7         641 non-null    float64\n",
      " 33  accompany_10        641 non-null    float64\n",
      " 34  sub_age_0.0         641 non-null    float64\n",
      " 35  sub_age_1.0         641 non-null    float64\n",
      " 36  sub_age_2.0         641 non-null    float64\n",
      " 37  sub_age_3.0         641 non-null    float64\n",
      " 38  sub_age_4.0         641 non-null    float64\n",
      " 39  sub_age_5.0         641 non-null    float64\n",
      " 40  sub_age_6.0         641 non-null    float64\n",
      " 41  sub_age_7.0         641 non-null    float64\n",
      " 42  sub_age_8.0         641 non-null    float64\n",
      "dtypes: float64(34), int32(1), int64(8)\n",
      "memory usage: 213.0 KB\n"
     ]
    }
   ],
   "source": [
    "enc_tr.drop(['name', 'embarked', 'designation', 'job', 'sub_age'], axis=1, inplace=True)\n",
    "enc_te.drop(['name', 'embarked', 'designation', 'job','sub_age'], axis=1, inplace=True)\n",
    "enc_ori_te.drop(['name', 'embarked', 'designation', 'job', 'sub_age'], axis=1, inplace=True)\n",
    "\n",
    "enc_tr.info()"
   ]
  },
  {
   "attachments": {},
   "cell_type": "markdown",
   "metadata": {},
   "source": [
    "## Training"
   ]
  },
  {
   "cell_type": "code",
   "execution_count": 272,
   "metadata": {},
   "outputs": [
    {
     "data": {
      "text/plain": [
       "(0, 0, 0)"
      ]
     },
     "execution_count": 272,
     "metadata": {},
     "output_type": "execute_result"
    }
   ],
   "source": [
    "enc_tr.isnull().sum().sum(), enc_te.isnull().sum().sum(), enc_ori_te.isnull().sum().sum()"
   ]
  },
  {
   "cell_type": "code",
   "execution_count": 273,
   "metadata": {},
   "outputs": [
    {
     "data": {
      "text/plain": [
       "((641, 43), (275, 43), (393, 43))"
      ]
     },
     "execution_count": 273,
     "metadata": {},
     "output_type": "execute_result"
    }
   ],
   "source": [
    "enc_tr.shape, enc_te.shape, enc_ori_te.shape"
   ]
  },
  {
   "cell_type": "code",
   "execution_count": 274,
   "metadata": {},
   "outputs": [
    {
     "data": {
      "text/plain": [
       "Index(['pclass', 'gender', 'age', 'sibsp', 'parch', 'fare', 'gender*pclass',\n",
       "       'gender*fare', 'accompany', 'alone', 'gender*alone', 'gender*accompany',\n",
       "       'pclass_1', 'pclass_2', 'pclass_3', 'embarked_C', 'embarked_Q',\n",
       "       'embarked_S', 'designation_Master', 'designation_Miss',\n",
       "       'designation_Mr', 'designation_Rare', 'job_Officer', 'job_Others',\n",
       "       'job_Royalty', 'accompany_0', 'accompany_1', 'accompany_2',\n",
       "       'accompany_3', 'accompany_4', 'accompany_5', 'accompany_6',\n",
       "       'accompany_7', 'accompany_10', 'sub_age_0.0', 'sub_age_1.0',\n",
       "       'sub_age_2.0', 'sub_age_3.0', 'sub_age_4.0', 'sub_age_5.0',\n",
       "       'sub_age_6.0', 'sub_age_7.0', 'sub_age_8.0'],\n",
       "      dtype='object')"
      ]
     },
     "execution_count": 274,
     "metadata": {},
     "output_type": "execute_result"
    }
   ],
   "source": [
    "enc_tr.columns"
   ]
  },
  {
   "cell_type": "code",
   "execution_count": 275,
   "metadata": {},
   "outputs": [
    {
     "name": "stdout",
     "output_type": "stream",
     "text": [
      "<class 'pandas.core.frame.DataFrame'>\n",
      "RangeIndex: 393 entries, 0 to 392\n",
      "Data columns (total 43 columns):\n",
      " #   Column              Non-Null Count  Dtype  \n",
      "---  ------              --------------  -----  \n",
      " 0   pclass              393 non-null    int64  \n",
      " 1   gender              393 non-null    int32  \n",
      " 2   age                 393 non-null    float64\n",
      " 3   sibsp               393 non-null    int64  \n",
      " 4   parch               393 non-null    int64  \n",
      " 5   fare                393 non-null    float64\n",
      " 6   gender*pclass       393 non-null    int64  \n",
      " 7   gender*fare         393 non-null    float64\n",
      " 8   accompany           393 non-null    int64  \n",
      " 9   alone               393 non-null    int64  \n",
      " 10  gender*alone        393 non-null    int64  \n",
      " 11  gender*accompany    393 non-null    int64  \n",
      " 12  pclass_1            393 non-null    float64\n",
      " 13  pclass_2            393 non-null    float64\n",
      " 14  pclass_3            393 non-null    float64\n",
      " 15  embarked_C          393 non-null    float64\n",
      " 16  embarked_Q          393 non-null    float64\n",
      " 17  embarked_S          393 non-null    float64\n",
      " 18  designation_Master  393 non-null    float64\n",
      " 19  designation_Miss    393 non-null    float64\n",
      " 20  designation_Mr      393 non-null    float64\n",
      " 21  designation_Rare    393 non-null    float64\n",
      " 22  job_Officer         393 non-null    float64\n",
      " 23  job_Others          393 non-null    float64\n",
      " 24  job_Royalty         393 non-null    float64\n",
      " 25  accompany_0         393 non-null    float64\n",
      " 26  accompany_1         393 non-null    float64\n",
      " 27  accompany_2         393 non-null    float64\n",
      " 28  accompany_3         393 non-null    float64\n",
      " 29  accompany_4         393 non-null    float64\n",
      " 30  accompany_5         393 non-null    float64\n",
      " 31  accompany_6         393 non-null    float64\n",
      " 32  accompany_7         393 non-null    float64\n",
      " 33  accompany_10        393 non-null    float64\n",
      " 34  sub_age_0.0         393 non-null    float64\n",
      " 35  sub_age_1.0         393 non-null    float64\n",
      " 36  sub_age_2.0         393 non-null    float64\n",
      " 37  sub_age_3.0         393 non-null    float64\n",
      " 38  sub_age_4.0         393 non-null    float64\n",
      " 39  sub_age_5.0         393 non-null    float64\n",
      " 40  sub_age_6.0         393 non-null    float64\n",
      " 41  sub_age_7.0         393 non-null    float64\n",
      " 42  sub_age_8.0         393 non-null    float64\n",
      "dtypes: float64(34), int32(1), int64(8)\n",
      "memory usage: 130.6 KB\n"
     ]
    }
   ],
   "source": [
    "enc_ori_te.info()"
   ]
  },
  {
   "attachments": {},
   "cell_type": "markdown",
   "metadata": {},
   "source": [
    "### DesicionTreeClassifier"
   ]
  },
  {
   "cell_type": "code",
   "execution_count": 276,
   "metadata": {},
   "outputs": [],
   "source": [
    "from sklearn.tree import DecisionTreeClassifier"
   ]
  },
  {
   "cell_type": "code",
   "execution_count": 277,
   "metadata": {},
   "outputs": [
    {
     "name": "stdout",
     "output_type": "stream",
     "text": [
      "훈련용 평가지표: 0.9921996879875195 / 테스트용 평가지표: 0.7890909090909091\n"
     ]
    }
   ],
   "source": [
    "dtc = DecisionTreeClassifier(random_state=args.random_state).fit(enc_tr, y_tr) \n",
    "dtc.fit(enc_tr, y_tr)\n",
    "\n",
    "print(f'훈련용 평가지표: {dtc.score(enc_tr, y_tr)} / 테스트용 평가지표: {dtc.score(enc_te, y_te)}')"
   ]
  },
  {
   "attachments": {},
   "cell_type": "markdown",
   "metadata": {},
   "source": [
    "#### Evaluation"
   ]
  },
  {
   "cell_type": "code",
   "execution_count": 278,
   "metadata": {},
   "outputs": [
    {
     "name": "stdout",
     "output_type": "stream",
     "text": [
      "model: 0.7773279352226721\n"
     ]
    }
   ],
   "source": [
    "from sklearn.metrics import roc_curve, auc \n",
    "\n",
    "y_pred_dtc = dtc.predict_proba(enc_te)[:,1]\n",
    "fpr, tpr, thresholds = roc_curve(y_te,y_pred_dtc)\n",
    "auc_te = auc(fpr, tpr)\n",
    "print(f'model: {auc_te}')"
   ]
  },
  {
   "attachments": {},
   "cell_type": "markdown",
   "metadata": {},
   "source": [
    "## LogisticRegression"
   ]
  },
  {
   "cell_type": "code",
   "execution_count": 279,
   "metadata": {},
   "outputs": [],
   "source": [
    "from sklearn.linear_model import LogisticRegression"
   ]
  },
  {
   "cell_type": "code",
   "execution_count": 280,
   "metadata": {},
   "outputs": [
    {
     "name": "stdout",
     "output_type": "stream",
     "text": [
      "훈련용 평가지표: 0.8736349453978159 / 테스트용 평가지표: 0.8727272727272727\n"
     ]
    }
   ],
   "source": [
    "logreg = LogisticRegression(random_state=args.random_state).fit(enc_tr, y_tr)\n",
    "logreg.fit(enc_tr, y_tr)\n",
    "\n",
    "print(f'훈련용 평가지표: {logreg.score(enc_tr, y_tr)} / 테스트용 평가지표: {logreg.score(enc_te, y_te)}')"
   ]
  },
  {
   "attachments": {},
   "cell_type": "markdown",
   "metadata": {},
   "source": [
    "### Evaluation"
   ]
  },
  {
   "cell_type": "code",
   "execution_count": 281,
   "metadata": {},
   "outputs": [
    {
     "name": "stdout",
     "output_type": "stream",
     "text": [
      "model: 0.8937246963562753\n"
     ]
    }
   ],
   "source": [
    "y_pred_logreg = logreg.predict_proba(enc_te)[:,1]\n",
    "fpr, tpr, thresholds = roc_curve(y_te,y_pred_logreg)\n",
    "auc_te = auc(fpr, tpr)\n",
    "print(f'model: {auc_te}')"
   ]
  },
  {
   "attachments": {},
   "cell_type": "markdown",
   "metadata": {},
   "source": [
    "## Ensemble"
   ]
  },
  {
   "attachments": {},
   "cell_type": "markdown",
   "metadata": {},
   "source": [
    "### RandomForest"
   ]
  },
  {
   "cell_type": "code",
   "execution_count": 282,
   "metadata": {},
   "outputs": [],
   "source": [
    "# Random Forest\n",
    "from sklearn.ensemble import RandomForestClassifier "
   ]
  },
  {
   "cell_type": "code",
   "execution_count": 283,
   "metadata": {},
   "outputs": [
    {
     "name": "stdout",
     "output_type": "stream",
     "text": [
      "훈련용 평가지표: 0.9921996879875195 / 테스트용 평가지표: 0.8218181818181818\n"
     ]
    }
   ],
   "source": [
    "forest = RandomForestClassifier(random_state=args.random_state).fit(enc_tr, y_tr)\n",
    "print(f'훈련용 평가지표: {forest.score(enc_tr, y_tr)} / 테스트용 평가지표: {forest.score(enc_te, y_te)}')"
   ]
  },
  {
   "attachments": {},
   "cell_type": "markdown",
   "metadata": {},
   "source": [
    "#### Hyperparameter Tuning\n",
    "- 오버피팅이 발생하여 튜닝으로 방지\n",
    "- 참고 문서 : https://scikit-learn.org/stable/modules/generated/sklearn.model_selection.GridSearchCV.html\n",
    "- 반복문으로 구현하는 방법도 사용 가능"
   ]
  },
  {
   "cell_type": "code",
   "execution_count": 284,
   "metadata": {},
   "outputs": [
    {
     "name": "stdout",
     "output_type": "stream",
     "text": [
      "Fitting 4 folds for each of 450 candidates, totalling 1800 fits\n",
      "{'max_depth': 4, 'max_features': 'sqrt', 'min_samples_leaf': 2, 'min_samples_split': 2, 'n_estimators': 20}\n",
      "0.9050269905533063\n"
     ]
    }
   ],
   "source": [
    "from sklearn.model_selection import GridSearchCV\n",
    "\n",
    "# 탐색 범위 정의\n",
    "grid_search = {'max_depth': [1,2,3,4,5],\n",
    "                'n_estimators': [20, 50, 100, 150, 200],\n",
    "                'max_features' : ['None', 'sqrt'],\n",
    "                'min_samples_split' : [2, 5, 10],\n",
    "                'min_samples_leaf' : [1, 2, 3]\n",
    "}\n",
    "\n",
    "rfc = RandomForestClassifier(random_state=args.random_state).fit(enc_tr, y_tr)\n",
    "grid = GridSearchCV(estimator = rfc, param_grid = grid_search, \n",
    "                               cv = 4, verbose= 5, n_jobs = -1)\n",
    "grid.fit(enc_tr, y_tr)\n",
    "\n",
    "grid_pf = grid.best_estimator_.predict(enc_tr)\n",
    "y_pred_forest = grid.predict_proba(enc_te)[:,1]\n",
    "fpr, tpr, thresholds = roc_curve(y_te,y_pred_forest)\n",
    "auc_te = auc(fpr, tpr)\n",
    "\n",
    "print(grid.best_params_)\n",
    "print(auc_te)"
   ]
  },
  {
   "attachments": {},
   "cell_type": "markdown",
   "metadata": {},
   "source": [
    "#### Evaluation"
   ]
  },
  {
   "cell_type": "code",
   "execution_count": 285,
   "metadata": {},
   "outputs": [
    {
     "name": "stdout",
     "output_type": "stream",
     "text": [
      "model: 0.9050269905533063\n"
     ]
    }
   ],
   "source": [
    "y_pred_forest = grid.predict_proba(enc_te)[:,1]\n",
    "fpr, tpr, thresholds = roc_curve(y_te,y_pred_forest)\n",
    "auc_te = auc(fpr, tpr)\n",
    "print(f'model: {auc_te}')"
   ]
  },
  {
   "attachments": {},
   "cell_type": "markdown",
   "metadata": {},
   "source": [
    "### Gradiant Boost"
   ]
  },
  {
   "cell_type": "code",
   "execution_count": 286,
   "metadata": {},
   "outputs": [],
   "source": [
    "from sklearn.ensemble import GradientBoostingClassifier"
   ]
  },
  {
   "cell_type": "code",
   "execution_count": 287,
   "metadata": {},
   "outputs": [
    {
     "name": "stdout",
     "output_type": "stream",
     "text": [
      "훈련용 평가지표: 0.9266770670826833 / 테스트용 평가지표: 0.8690909090909091\n"
     ]
    }
   ],
   "source": [
    "gradient = GradientBoostingClassifier(random_state=args.random_state).fit(enc_tr, y_tr)\n",
    "print(f'훈련용 평가지표: {gradient.score(enc_tr, y_tr)} / 테스트용 평가지표: {gradient.score(enc_te, y_te)}')"
   ]
  },
  {
   "attachments": {},
   "cell_type": "markdown",
   "metadata": {},
   "source": [
    "#### Hyperparameter Tuning\n",
    "- 하이퍼파라미터 요소 및 GridSearchCV 활용법 더 알아볼 필요 있음 "
   ]
  },
  {
   "cell_type": "code",
   "execution_count": 288,
   "metadata": {},
   "outputs": [
    {
     "name": "stdout",
     "output_type": "stream",
     "text": [
      "Fitting 4 folds for each of 125 candidates, totalling 500 fits\n",
      "{'learning_rate': 0.5, 'max_depth': 1, 'n_estimators': 20}\n",
      "0.9045771479982007\n"
     ]
    }
   ],
   "source": [
    "from sklearn.model_selection import GridSearchCV\n",
    "\n",
    "# 탐색 범위 정의\n",
    "grid_search = {'max_depth': [1,2,3,4,5],\n",
    "                'n_estimators': [20, 50, 100, 150, 200],\n",
    "                'learning_rate' : [0.1, 0.2, 0.3, 0.4, 0.5]\n",
    "}\n",
    "\n",
    "gbc = GradientBoostingClassifier(random_state=args.random_state).fit(enc_tr, y_tr)\n",
    "grid = GridSearchCV(estimator = gbc, param_grid = grid_search, \n",
    "                               cv = 4, verbose= 5, n_jobs = -1)\n",
    "grid.fit(enc_tr, y_tr)\n",
    "\n",
    "grid_pf = grid.best_estimator_.predict(enc_tr)\n",
    "y_pred_gbc = grid.predict_proba(enc_te)[:,1]\n",
    "fpr, tpr, thresholds = roc_curve(y_te,y_pred_gbc)\n",
    "auc_te = auc(fpr, tpr)\n",
    "\n",
    "print(grid.best_params_)\n",
    "print(auc_te)"
   ]
  },
  {
   "attachments": {},
   "cell_type": "markdown",
   "metadata": {},
   "source": [
    "#### Evaluation"
   ]
  },
  {
   "cell_type": "code",
   "execution_count": 289,
   "metadata": {},
   "outputs": [
    {
     "name": "stdout",
     "output_type": "stream",
     "text": [
      "model: 0.9045771479982007\n"
     ]
    }
   ],
   "source": [
    "y_pred_grid = grid.predict_proba(enc_te)[:,1]\n",
    "fpr, tpr, thresholds = roc_curve(y_te,y_pred_grid)\n",
    "auc_te = auc(fpr, tpr)\n",
    "print(f'model: {auc_te}')"
   ]
  },
  {
   "attachments": {},
   "cell_type": "markdown",
   "metadata": {},
   "source": [
    "### XG Boost"
   ]
  },
  {
   "cell_type": "code",
   "execution_count": 290,
   "metadata": {},
   "outputs": [],
   "source": [
    "from xgboost import XGBClassifier, plot_importance"
   ]
  },
  {
   "cell_type": "code",
   "execution_count": 291,
   "metadata": {},
   "outputs": [
    {
     "name": "stdout",
     "output_type": "stream",
     "text": [
      "훈련용 평가지표 : 0.982839313572543 / 테스트용 평가지표 : 0.84\n"
     ]
    }
   ],
   "source": [
    "hp = {\n",
    "    \"random_state\" : args.random_state,\n",
    "}\n",
    "\n",
    "xgb = XGBClassifier(**hp).fit(enc_tr, y_tr)\n",
    "print(f'훈련용 평가지표 : {xgb.score(enc_tr, y_tr)} / 테스트용 평가지표 : {xgb.score(enc_te, y_te)}')"
   ]
  },
  {
   "attachments": {},
   "cell_type": "markdown",
   "metadata": {},
   "source": [
    "#### Hyperparameter Tuning"
   ]
  },
  {
   "cell_type": "code",
   "execution_count": 292,
   "metadata": {},
   "outputs": [
    {
     "name": "stdout",
     "output_type": "stream",
     "text": [
      "Fitting 4 folds for each of 125 candidates, totalling 500 fits\n",
      "{'learning_rate': 0.1, 'max_depth': 1, 'n_estimators': 150}\n",
      "0.9008378317588844\n"
     ]
    }
   ],
   "source": [
    "from sklearn.model_selection import GridSearchCV\n",
    "\n",
    "# 탐색 범위 정의\n",
    "grid_search = {'max_depth': [1,2,3,4,5],\n",
    "                'n_estimators': [20, 50, 100, 150, 200],\n",
    "                'learning_rate' : [0.1, 0.2, 0.3, 0.4, 0.5],\n",
    "}\n",
    "\n",
    "xgb = XGBClassifier(random_state=args.random_state).fit(enc_tr, y_tr)\n",
    "grid = GridSearchCV(estimator = xgb, param_grid = grid_search, \n",
    "                               cv = 4, verbose= 5, n_jobs = -1)\n",
    "grid.fit(enc_tr, y_tr)\n",
    "\n",
    "grid_pf = grid.best_estimator_.predict(enc_tr)\n",
    "y_pred_xgb = grid.predict_proba(enc_te)[:,1]\n",
    "fpr, tpr, thresholds = roc_curve(y_te,y_pred_xgb)\n",
    "auc_te = auc(fpr, tpr)\n",
    "\n",
    "print(grid.best_params_)\n",
    "print(auc_te)"
   ]
  },
  {
   "attachments": {},
   "cell_type": "markdown",
   "metadata": {},
   "source": [
    "##### Evaluation"
   ]
  },
  {
   "cell_type": "code",
   "execution_count": 293,
   "metadata": {},
   "outputs": [
    {
     "name": "stdout",
     "output_type": "stream",
     "text": [
      "model: 0.9008378317588844\n"
     ]
    }
   ],
   "source": [
    "y_pred_xgb = grid.predict_proba(enc_te)[:,1]\n",
    "fpr, tpr, thresholds = roc_curve(y_te,y_pred_xgb)\n",
    "auc_te = auc(fpr, tpr)\n",
    "print(f'model: {auc_te}')"
   ]
  },
  {
   "attachments": {},
   "cell_type": "markdown",
   "metadata": {},
   "source": [
    "##### Feature Importnace Visualization\n",
    "- 그래프 해석 필요... 너무 편향된 게 아닌가?"
   ]
  },
  {
   "cell_type": "code",
   "execution_count": 294,
   "metadata": {},
   "outputs": [
    {
     "data": {
      "image/png": "[encoded data removed]",
      "text/plain": [
       "<Figure size 640x480 with 1 Axes>"
      ]
     },
     "metadata": {},
     "output_type": "display_data"
    }
   ],
   "source": [
    "import matplotlib.pyplot as plt\n",
    "plot_importance(xgb)\n",
    "plt.show()"
   ]
  },
  {
   "attachments": {},
   "cell_type": "markdown",
   "metadata": {},
   "source": [
    "# Submission\n",
    "- Gradiant Boost 결과 제출"
   ]
  },
  {
   "cell_type": "code",
   "execution_count": 295,
   "metadata": {},
   "outputs": [
    {
     "name": "stdout",
     "output_type": "stream",
     "text": [
      "(393, 2)\n"
     ]
    },
    {
     "data": {
      "text/html": [
       "<div>\n",
       "<style scoped>\n",
       "    .dataframe tbody tr th:only-of-type {\n",
       "        vertical-align: middle;\n",
       "    }\n",
       "\n",
       "    .dataframe tbody tr th {\n",
       "        vertical-align: top;\n",
       "    }\n",
       "\n",
       "    .dataframe thead th {\n",
       "        text-align: right;\n",
       "    }\n",
       "</style>\n",
       "<table border=\"1\" class=\"dataframe\">\n",
       "  <thead>\n",
       "    <tr style=\"text-align: right;\">\n",
       "      <th></th>\n",
       "      <th>passengerid</th>\n",
       "      <th>survived</th>\n",
       "    </tr>\n",
       "  </thead>\n",
       "  <tbody>\n",
       "    <tr>\n",
       "      <th>0</th>\n",
       "      <td>916</td>\n",
       "      <td>0.5</td>\n",
       "    </tr>\n",
       "    <tr>\n",
       "      <th>1</th>\n",
       "      <td>917</td>\n",
       "      <td>0.5</td>\n",
       "    </tr>\n",
       "    <tr>\n",
       "      <th>2</th>\n",
       "      <td>918</td>\n",
       "      <td>0.5</td>\n",
       "    </tr>\n",
       "    <tr>\n",
       "      <th>3</th>\n",
       "      <td>919</td>\n",
       "      <td>0.5</td>\n",
       "    </tr>\n",
       "    <tr>\n",
       "      <th>4</th>\n",
       "      <td>920</td>\n",
       "      <td>0.5</td>\n",
       "    </tr>\n",
       "  </tbody>\n",
       "</table>\n",
       "</div>"
      ],
      "text/plain": [
       "   passengerid  survived\n",
       "0          916       0.5\n",
       "1          917       0.5\n",
       "2          918       0.5\n",
       "3          919       0.5\n",
       "4          920       0.5"
      ]
     },
     "execution_count": 295,
     "metadata": {},
     "output_type": "execute_result"
    }
   ],
   "source": [
    "submission = pd.read_csv(args.submission_csv)\n",
    "print(f'{submission.shape}')\n",
    "submission.head()"
   ]
  },
  {
   "cell_type": "code",
   "execution_count": 302,
   "metadata": {},
   "outputs": [
    {
     "data": {
      "text/plain": [
       "(393,)"
      ]
     },
     "execution_count": 302,
     "metadata": {},
     "output_type": "execute_result"
    }
   ],
   "source": [
    "test_pred = gbc.predict_proba(enc_ori_te)[:, 1]\n",
    "test_pred.shape"
   ]
  },
  {
   "cell_type": "code",
   "execution_count": 303,
   "metadata": {},
   "outputs": [
    {
     "data": {
      "text/html": [
       "<div>\n",
       "<style scoped>\n",
       "    .dataframe tbody tr th:only-of-type {\n",
       "        vertical-align: middle;\n",
       "    }\n",
       "\n",
       "    .dataframe tbody tr th {\n",
       "        vertical-align: top;\n",
       "    }\n",
       "\n",
       "    .dataframe thead th {\n",
       "        text-align: right;\n",
       "    }\n",
       "</style>\n",
       "<table border=\"1\" class=\"dataframe\">\n",
       "  <thead>\n",
       "    <tr style=\"text-align: right;\">\n",
       "      <th></th>\n",
       "      <th>passengerid</th>\n",
       "      <th>survived</th>\n",
       "    </tr>\n",
       "  </thead>\n",
       "  <tbody>\n",
       "    <tr>\n",
       "      <th>0</th>\n",
       "      <td>916</td>\n",
       "      <td>0.738991</td>\n",
       "    </tr>\n",
       "    <tr>\n",
       "      <th>1</th>\n",
       "      <td>917</td>\n",
       "      <td>0.955815</td>\n",
       "    </tr>\n",
       "    <tr>\n",
       "      <th>2</th>\n",
       "      <td>918</td>\n",
       "      <td>0.820573</td>\n",
       "    </tr>\n",
       "    <tr>\n",
       "      <th>3</th>\n",
       "      <td>919</td>\n",
       "      <td>0.096745</td>\n",
       "    </tr>\n",
       "    <tr>\n",
       "      <th>4</th>\n",
       "      <td>920</td>\n",
       "      <td>0.946531</td>\n",
       "    </tr>\n",
       "  </tbody>\n",
       "</table>\n",
       "</div>"
      ],
      "text/plain": [
       "   passengerid  survived\n",
       "0          916  0.738991\n",
       "1          917  0.955815\n",
       "2          918  0.820573\n",
       "3          919  0.096745\n",
       "4          920  0.946531"
      ]
     },
     "execution_count": 303,
     "metadata": {},
     "output_type": "execute_result"
    }
   ],
   "source": [
    "submission['survived'] = test_pred\n",
    "submission.head()"
   ]
  },
  {
   "cell_type": "code",
   "execution_count": 304,
   "metadata": {},
   "outputs": [],
   "source": [
    "submission.to_csv(args.submission_file, header=True, index=False)"
   ]
  },
  {
   "cell_type": "code",
   "execution_count": null,
   "metadata": {},
   "outputs": [],
   "source": []
  }
 ],
 "metadata": {
  "kernelspec": {
   "display_name": ".venv",
   "language": "python",
   "name": "python3"
  },
  "language_info": {
   "codemirror_mode": {
    "name": "ipython",
    "version": 3
   },
   "file_extension": ".py",
   "mimetype": "text/x-python",
   "name": "python",
   "nbconvert_exporter": "python",
   "pygments_lexer": "ipython3",
   "version": "3.9.2"
  },
  "orig_nbformat": 4,
  "vscode": {
   "interpreter": {
    "hash": "70131225f159fdc77c20b286d0156a2ea8222805628cdd6b4aad0848f4f27586"
   }
  }
 },
 "nbformat": 4,
 "nbformat_minor": 2
}
